{
  "nbformat": 4,
  "nbformat_minor": 0,
  "metadata": {
    "colab": {
      "name": "dojo-geleia.ipynb",
      "provenance": [],
      "collapsed_sections": []
    },
    "kernelspec": {
      "name": "python3",
      "display_name": "Python 3"
    }
  },
  "cells": [
    {
      "cell_type": "code",
      "metadata": {
        "id": "6osS0CISksjd",
        "colab_type": "code",
        "colab": {}
      },
      "source": [
        "# Colab: http://dojo.geleia.group/\n",
        "\n",
        "# Tutorial: https://medium.com/geleia/dojo-data-science-online-27122abea61b\n",
        "\n",
        "# Dataset: http://bit.ly/cardiodados\n",
        "\n",
        "# Objetivo: predizer doença cardiovascular\n",
        "\n",
        "# Meta: AUC > 0.75 | Sens > 80% | Espec: 95%"
      ],
      "execution_count": 140,
      "outputs": []
    },
    {
      "cell_type": "code",
      "metadata": {
        "id": "0ARkUmPgp4T5",
        "colab_type": "code",
        "colab": {}
      },
      "source": [
        "import pandas as pd"
      ],
      "execution_count": 141,
      "outputs": []
    },
    {
      "cell_type": "code",
      "metadata": {
        "id": "uQB6WdHCp5mM",
        "colab_type": "code",
        "colab": {}
      },
      "source": [
        "df = pd.read_csv('http://bit.ly/cardiodados')"
      ],
      "execution_count": 142,
      "outputs": []
    },
    {
      "cell_type": "code",
      "metadata": {
        "id": "SGJZQvLep7jS",
        "colab_type": "code",
        "colab": {
          "base_uri": "https://localhost:8080/",
          "height": 204
        },
        "outputId": "46f72861-8542-4630-a1ba-0c88d98a17a9"
      },
      "source": [
        "df.head()"
      ],
      "execution_count": 143,
      "outputs": [
        {
          "output_type": "execute_result",
          "data": {
            "text/html": [
              "<div>\n",
              "<style scoped>\n",
              "    .dataframe tbody tr th:only-of-type {\n",
              "        vertical-align: middle;\n",
              "    }\n",
              "\n",
              "    .dataframe tbody tr th {\n",
              "        vertical-align: top;\n",
              "    }\n",
              "\n",
              "    .dataframe thead th {\n",
              "        text-align: right;\n",
              "    }\n",
              "</style>\n",
              "<table border=\"1\" class=\"dataframe\">\n",
              "  <thead>\n",
              "    <tr style=\"text-align: right;\">\n",
              "      <th></th>\n",
              "      <th>patientID</th>\n",
              "      <th>age</th>\n",
              "      <th>htn</th>\n",
              "      <th>treat</th>\n",
              "      <th>smoking</th>\n",
              "      <th>race</th>\n",
              "      <th>t2d</th>\n",
              "      <th>gender</th>\n",
              "      <th>numAge</th>\n",
              "      <th>bmi</th>\n",
              "      <th>tchol</th>\n",
              "      <th>sbp</th>\n",
              "      <th>cvd</th>\n",
              "    </tr>\n",
              "  </thead>\n",
              "  <tbody>\n",
              "    <tr>\n",
              "      <th>0</th>\n",
              "      <td>HHUID00519967</td>\n",
              "      <td>70-90</td>\n",
              "      <td>N</td>\n",
              "      <td>N</td>\n",
              "      <td>N</td>\n",
              "      <td>White</td>\n",
              "      <td>N</td>\n",
              "      <td>M</td>\n",
              "      <td>83</td>\n",
              "      <td>17</td>\n",
              "      <td>156</td>\n",
              "      <td>113</td>\n",
              "      <td>N</td>\n",
              "    </tr>\n",
              "    <tr>\n",
              "      <th>1</th>\n",
              "      <td>HHUID00379006</td>\n",
              "      <td>40-55</td>\n",
              "      <td>N</td>\n",
              "      <td>N</td>\n",
              "      <td>N</td>\n",
              "      <td>White</td>\n",
              "      <td>N</td>\n",
              "      <td>M</td>\n",
              "      <td>44</td>\n",
              "      <td>23</td>\n",
              "      <td>167</td>\n",
              "      <td>126</td>\n",
              "      <td>N</td>\n",
              "    </tr>\n",
              "    <tr>\n",
              "      <th>2</th>\n",
              "      <td>HHUID00357476</td>\n",
              "      <td>55-70</td>\n",
              "      <td>Y</td>\n",
              "      <td>Y</td>\n",
              "      <td>N</td>\n",
              "      <td>White</td>\n",
              "      <td>N</td>\n",
              "      <td>M</td>\n",
              "      <td>62</td>\n",
              "      <td>16</td>\n",
              "      <td>214</td>\n",
              "      <td>175</td>\n",
              "      <td>N</td>\n",
              "    </tr>\n",
              "    <tr>\n",
              "      <th>3</th>\n",
              "      <td>HHUID00862369</td>\n",
              "      <td>40-55</td>\n",
              "      <td>N</td>\n",
              "      <td>N</td>\n",
              "      <td>N</td>\n",
              "      <td>White</td>\n",
              "      <td>N</td>\n",
              "      <td>M</td>\n",
              "      <td>42</td>\n",
              "      <td>22</td>\n",
              "      <td>158</td>\n",
              "      <td>102</td>\n",
              "      <td>N</td>\n",
              "    </tr>\n",
              "    <tr>\n",
              "      <th>4</th>\n",
              "      <td>HHUID00481496</td>\n",
              "      <td>55-70</td>\n",
              "      <td>N</td>\n",
              "      <td>N</td>\n",
              "      <td>N</td>\n",
              "      <td>White</td>\n",
              "      <td>N</td>\n",
              "      <td>M</td>\n",
              "      <td>63</td>\n",
              "      <td>24</td>\n",
              "      <td>244</td>\n",
              "      <td>132</td>\n",
              "      <td>N</td>\n",
              "    </tr>\n",
              "  </tbody>\n",
              "</table>\n",
              "</div>"
            ],
            "text/plain": [
              "       patientID    age htn treat smoking  ... numAge bmi tchol  sbp  cvd\n",
              "0  HHUID00519967  70-90   N     N       N  ...     83  17   156  113    N\n",
              "1  HHUID00379006  40-55   N     N       N  ...     44  23   167  126    N\n",
              "2  HHUID00357476  55-70   Y     Y       N  ...     62  16   214  175    N\n",
              "3  HHUID00862369  40-55   N     N       N  ...     42  22   158  102    N\n",
              "4  HHUID00481496  55-70   N     N       N  ...     63  24   244  132    N\n",
              "\n",
              "[5 rows x 13 columns]"
            ]
          },
          "metadata": {
            "tags": []
          },
          "execution_count": 143
        }
      ]
    },
    {
      "cell_type": "code",
      "metadata": {
        "id": "t2TzyhU6p8uC",
        "colab_type": "code",
        "colab": {}
      },
      "source": [
        "def converte_doenca(X):\n",
        "  if X == 'Y':\n",
        "    return 1\n",
        "  else:\n",
        "    return 0"
      ],
      "execution_count": 144,
      "outputs": []
    },
    {
      "cell_type": "code",
      "metadata": {
        "id": "iF63HdHfsqgw",
        "colab_type": "code",
        "colab": {
          "base_uri": "https://localhost:8080/",
          "height": 221
        },
        "outputId": "0b8bafb6-010c-4f85-b563-c8fd36a40bed"
      },
      "source": [
        "df.htn.map(converte_doenca)"
      ],
      "execution_count": 145,
      "outputs": [
        {
          "output_type": "execute_result",
          "data": {
            "text/plain": [
              "0         0\n",
              "1         0\n",
              "2         1\n",
              "3         0\n",
              "4         0\n",
              "         ..\n",
              "446198    1\n",
              "446199    0\n",
              "446200    0\n",
              "446201    1\n",
              "446202    0\n",
              "Name: htn, Length: 446203, dtype: int64"
            ]
          },
          "metadata": {
            "tags": []
          },
          "execution_count": 145
        }
      ]
    },
    {
      "cell_type": "code",
      "metadata": {
        "id": "ycLE_pZFswpf",
        "colab_type": "code",
        "colab": {}
      },
      "source": [
        "df['htn_bin'] = 0"
      ],
      "execution_count": 146,
      "outputs": []
    },
    {
      "cell_type": "code",
      "metadata": {
        "id": "YslLptkNtl3G",
        "colab_type": "code",
        "colab": {
          "base_uri": "https://localhost:8080/",
          "height": 204
        },
        "outputId": "0a9247cb-e5ff-45e5-b84c-423d2b8484eb"
      },
      "source": [
        "df.head()"
      ],
      "execution_count": 147,
      "outputs": [
        {
          "output_type": "execute_result",
          "data": {
            "text/html": [
              "<div>\n",
              "<style scoped>\n",
              "    .dataframe tbody tr th:only-of-type {\n",
              "        vertical-align: middle;\n",
              "    }\n",
              "\n",
              "    .dataframe tbody tr th {\n",
              "        vertical-align: top;\n",
              "    }\n",
              "\n",
              "    .dataframe thead th {\n",
              "        text-align: right;\n",
              "    }\n",
              "</style>\n",
              "<table border=\"1\" class=\"dataframe\">\n",
              "  <thead>\n",
              "    <tr style=\"text-align: right;\">\n",
              "      <th></th>\n",
              "      <th>patientID</th>\n",
              "      <th>age</th>\n",
              "      <th>htn</th>\n",
              "      <th>treat</th>\n",
              "      <th>smoking</th>\n",
              "      <th>race</th>\n",
              "      <th>t2d</th>\n",
              "      <th>gender</th>\n",
              "      <th>numAge</th>\n",
              "      <th>bmi</th>\n",
              "      <th>tchol</th>\n",
              "      <th>sbp</th>\n",
              "      <th>cvd</th>\n",
              "      <th>htn_bin</th>\n",
              "    </tr>\n",
              "  </thead>\n",
              "  <tbody>\n",
              "    <tr>\n",
              "      <th>0</th>\n",
              "      <td>HHUID00519967</td>\n",
              "      <td>70-90</td>\n",
              "      <td>N</td>\n",
              "      <td>N</td>\n",
              "      <td>N</td>\n",
              "      <td>White</td>\n",
              "      <td>N</td>\n",
              "      <td>M</td>\n",
              "      <td>83</td>\n",
              "      <td>17</td>\n",
              "      <td>156</td>\n",
              "      <td>113</td>\n",
              "      <td>N</td>\n",
              "      <td>0</td>\n",
              "    </tr>\n",
              "    <tr>\n",
              "      <th>1</th>\n",
              "      <td>HHUID00379006</td>\n",
              "      <td>40-55</td>\n",
              "      <td>N</td>\n",
              "      <td>N</td>\n",
              "      <td>N</td>\n",
              "      <td>White</td>\n",
              "      <td>N</td>\n",
              "      <td>M</td>\n",
              "      <td>44</td>\n",
              "      <td>23</td>\n",
              "      <td>167</td>\n",
              "      <td>126</td>\n",
              "      <td>N</td>\n",
              "      <td>0</td>\n",
              "    </tr>\n",
              "    <tr>\n",
              "      <th>2</th>\n",
              "      <td>HHUID00357476</td>\n",
              "      <td>55-70</td>\n",
              "      <td>Y</td>\n",
              "      <td>Y</td>\n",
              "      <td>N</td>\n",
              "      <td>White</td>\n",
              "      <td>N</td>\n",
              "      <td>M</td>\n",
              "      <td>62</td>\n",
              "      <td>16</td>\n",
              "      <td>214</td>\n",
              "      <td>175</td>\n",
              "      <td>N</td>\n",
              "      <td>0</td>\n",
              "    </tr>\n",
              "    <tr>\n",
              "      <th>3</th>\n",
              "      <td>HHUID00862369</td>\n",
              "      <td>40-55</td>\n",
              "      <td>N</td>\n",
              "      <td>N</td>\n",
              "      <td>N</td>\n",
              "      <td>White</td>\n",
              "      <td>N</td>\n",
              "      <td>M</td>\n",
              "      <td>42</td>\n",
              "      <td>22</td>\n",
              "      <td>158</td>\n",
              "      <td>102</td>\n",
              "      <td>N</td>\n",
              "      <td>0</td>\n",
              "    </tr>\n",
              "    <tr>\n",
              "      <th>4</th>\n",
              "      <td>HHUID00481496</td>\n",
              "      <td>55-70</td>\n",
              "      <td>N</td>\n",
              "      <td>N</td>\n",
              "      <td>N</td>\n",
              "      <td>White</td>\n",
              "      <td>N</td>\n",
              "      <td>M</td>\n",
              "      <td>63</td>\n",
              "      <td>24</td>\n",
              "      <td>244</td>\n",
              "      <td>132</td>\n",
              "      <td>N</td>\n",
              "      <td>0</td>\n",
              "    </tr>\n",
              "  </tbody>\n",
              "</table>\n",
              "</div>"
            ],
            "text/plain": [
              "       patientID    age htn treat smoking  ... bmi tchol  sbp  cvd  htn_bin\n",
              "0  HHUID00519967  70-90   N     N       N  ...  17   156  113    N        0\n",
              "1  HHUID00379006  40-55   N     N       N  ...  23   167  126    N        0\n",
              "2  HHUID00357476  55-70   Y     Y       N  ...  16   214  175    N        0\n",
              "3  HHUID00862369  40-55   N     N       N  ...  22   158  102    N        0\n",
              "4  HHUID00481496  55-70   N     N       N  ...  24   244  132    N        0\n",
              "\n",
              "[5 rows x 14 columns]"
            ]
          },
          "metadata": {
            "tags": []
          },
          "execution_count": 147
        }
      ]
    },
    {
      "cell_type": "code",
      "metadata": {
        "id": "zfmJ-WjGtpQe",
        "colab_type": "code",
        "colab": {
          "base_uri": "https://localhost:8080/",
          "height": 51
        },
        "outputId": "1e451ea4-d286-4691-c908-c60cb68638a1"
      },
      "source": [
        "df.htn_bin.value_counts()"
      ],
      "execution_count": 148,
      "outputs": [
        {
          "output_type": "execute_result",
          "data": {
            "text/plain": [
              "0    446203\n",
              "Name: htn_bin, dtype: int64"
            ]
          },
          "metadata": {
            "tags": []
          },
          "execution_count": 148
        }
      ]
    },
    {
      "cell_type": "code",
      "metadata": {
        "id": "R-hLXfSqtjbk",
        "colab_type": "code",
        "colab": {}
      },
      "source": [
        "df['htn_bin'] = df.htn.map(converte_doenca)"
      ],
      "execution_count": 149,
      "outputs": []
    },
    {
      "cell_type": "code",
      "metadata": {
        "id": "Dcn6SQb1ttFO",
        "colab_type": "code",
        "colab": {
          "base_uri": "https://localhost:8080/",
          "height": 68
        },
        "outputId": "352e614e-0d7a-4e44-f123-35909a64bffb"
      },
      "source": [
        "df['htn_bin'].value_counts()"
      ],
      "execution_count": 150,
      "outputs": [
        {
          "output_type": "execute_result",
          "data": {
            "text/plain": [
              "0    318491\n",
              "1    127712\n",
              "Name: htn_bin, dtype: int64"
            ]
          },
          "metadata": {
            "tags": []
          },
          "execution_count": 150
        }
      ]
    },
    {
      "cell_type": "code",
      "metadata": {
        "id": "yccPVxTVtt72",
        "colab_type": "code",
        "colab": {}
      },
      "source": [
        "df['treat_bin'] = df.treat.map(converte_doenca)\n",
        "df['smk_bin'] = df.smoking.map(converte_doenca)\n",
        "df['t2d_bin'] = df.t2d.map(converte_doenca)\n",
        "df['cvd_bin'] = df.cvd.map(converte_doenca)"
      ],
      "execution_count": 151,
      "outputs": []
    },
    {
      "cell_type": "code",
      "metadata": {
        "id": "SUdDA9PmuEoQ",
        "colab_type": "code",
        "colab": {
          "base_uri": "https://localhost:8080/",
          "height": 204
        },
        "outputId": "cf98306b-e94b-4b88-b5fa-9568fb3c0765"
      },
      "source": [
        "df.head()"
      ],
      "execution_count": 152,
      "outputs": [
        {
          "output_type": "execute_result",
          "data": {
            "text/html": [
              "<div>\n",
              "<style scoped>\n",
              "    .dataframe tbody tr th:only-of-type {\n",
              "        vertical-align: middle;\n",
              "    }\n",
              "\n",
              "    .dataframe tbody tr th {\n",
              "        vertical-align: top;\n",
              "    }\n",
              "\n",
              "    .dataframe thead th {\n",
              "        text-align: right;\n",
              "    }\n",
              "</style>\n",
              "<table border=\"1\" class=\"dataframe\">\n",
              "  <thead>\n",
              "    <tr style=\"text-align: right;\">\n",
              "      <th></th>\n",
              "      <th>patientID</th>\n",
              "      <th>age</th>\n",
              "      <th>htn</th>\n",
              "      <th>treat</th>\n",
              "      <th>smoking</th>\n",
              "      <th>race</th>\n",
              "      <th>t2d</th>\n",
              "      <th>gender</th>\n",
              "      <th>numAge</th>\n",
              "      <th>bmi</th>\n",
              "      <th>tchol</th>\n",
              "      <th>sbp</th>\n",
              "      <th>cvd</th>\n",
              "      <th>htn_bin</th>\n",
              "      <th>treat_bin</th>\n",
              "      <th>smk_bin</th>\n",
              "      <th>t2d_bin</th>\n",
              "      <th>cvd_bin</th>\n",
              "    </tr>\n",
              "  </thead>\n",
              "  <tbody>\n",
              "    <tr>\n",
              "      <th>0</th>\n",
              "      <td>HHUID00519967</td>\n",
              "      <td>70-90</td>\n",
              "      <td>N</td>\n",
              "      <td>N</td>\n",
              "      <td>N</td>\n",
              "      <td>White</td>\n",
              "      <td>N</td>\n",
              "      <td>M</td>\n",
              "      <td>83</td>\n",
              "      <td>17</td>\n",
              "      <td>156</td>\n",
              "      <td>113</td>\n",
              "      <td>N</td>\n",
              "      <td>0</td>\n",
              "      <td>0</td>\n",
              "      <td>0</td>\n",
              "      <td>0</td>\n",
              "      <td>0</td>\n",
              "    </tr>\n",
              "    <tr>\n",
              "      <th>1</th>\n",
              "      <td>HHUID00379006</td>\n",
              "      <td>40-55</td>\n",
              "      <td>N</td>\n",
              "      <td>N</td>\n",
              "      <td>N</td>\n",
              "      <td>White</td>\n",
              "      <td>N</td>\n",
              "      <td>M</td>\n",
              "      <td>44</td>\n",
              "      <td>23</td>\n",
              "      <td>167</td>\n",
              "      <td>126</td>\n",
              "      <td>N</td>\n",
              "      <td>0</td>\n",
              "      <td>0</td>\n",
              "      <td>0</td>\n",
              "      <td>0</td>\n",
              "      <td>0</td>\n",
              "    </tr>\n",
              "    <tr>\n",
              "      <th>2</th>\n",
              "      <td>HHUID00357476</td>\n",
              "      <td>55-70</td>\n",
              "      <td>Y</td>\n",
              "      <td>Y</td>\n",
              "      <td>N</td>\n",
              "      <td>White</td>\n",
              "      <td>N</td>\n",
              "      <td>M</td>\n",
              "      <td>62</td>\n",
              "      <td>16</td>\n",
              "      <td>214</td>\n",
              "      <td>175</td>\n",
              "      <td>N</td>\n",
              "      <td>1</td>\n",
              "      <td>1</td>\n",
              "      <td>0</td>\n",
              "      <td>0</td>\n",
              "      <td>0</td>\n",
              "    </tr>\n",
              "    <tr>\n",
              "      <th>3</th>\n",
              "      <td>HHUID00862369</td>\n",
              "      <td>40-55</td>\n",
              "      <td>N</td>\n",
              "      <td>N</td>\n",
              "      <td>N</td>\n",
              "      <td>White</td>\n",
              "      <td>N</td>\n",
              "      <td>M</td>\n",
              "      <td>42</td>\n",
              "      <td>22</td>\n",
              "      <td>158</td>\n",
              "      <td>102</td>\n",
              "      <td>N</td>\n",
              "      <td>0</td>\n",
              "      <td>0</td>\n",
              "      <td>0</td>\n",
              "      <td>0</td>\n",
              "      <td>0</td>\n",
              "    </tr>\n",
              "    <tr>\n",
              "      <th>4</th>\n",
              "      <td>HHUID00481496</td>\n",
              "      <td>55-70</td>\n",
              "      <td>N</td>\n",
              "      <td>N</td>\n",
              "      <td>N</td>\n",
              "      <td>White</td>\n",
              "      <td>N</td>\n",
              "      <td>M</td>\n",
              "      <td>63</td>\n",
              "      <td>24</td>\n",
              "      <td>244</td>\n",
              "      <td>132</td>\n",
              "      <td>N</td>\n",
              "      <td>0</td>\n",
              "      <td>0</td>\n",
              "      <td>0</td>\n",
              "      <td>0</td>\n",
              "      <td>0</td>\n",
              "    </tr>\n",
              "  </tbody>\n",
              "</table>\n",
              "</div>"
            ],
            "text/plain": [
              "       patientID    age htn treat  ... treat_bin smk_bin t2d_bin cvd_bin\n",
              "0  HHUID00519967  70-90   N     N  ...         0       0       0       0\n",
              "1  HHUID00379006  40-55   N     N  ...         0       0       0       0\n",
              "2  HHUID00357476  55-70   Y     Y  ...         1       0       0       0\n",
              "3  HHUID00862369  40-55   N     N  ...         0       0       0       0\n",
              "4  HHUID00481496  55-70   N     N  ...         0       0       0       0\n",
              "\n",
              "[5 rows x 18 columns]"
            ]
          },
          "metadata": {
            "tags": []
          },
          "execution_count": 152
        }
      ]
    },
    {
      "cell_type": "code",
      "metadata": {
        "id": "Iypw8q3-S_kv",
        "colab_type": "code",
        "colab": {
          "base_uri": "https://localhost:8080/",
          "height": 885
        },
        "outputId": "73242215-3f29-4d36-fb9d-068ce9be712e"
      },
      "source": [
        "import seaborn as sns \n",
        "import matplotlib.pyplot as plt\n",
        "plt.figure(figsize=(15,15))\n",
        "sns.heatmap(df.corr(), annot=True)\n"
      ],
      "execution_count": 247,
      "outputs": [
        {
          "output_type": "execute_result",
          "data": {
            "text/plain": [
              "<matplotlib.axes._subplots.AxesSubplot at 0x7f5a38578a90>"
            ]
          },
          "metadata": {
            "tags": []
          },
          "execution_count": 247
        },
        {
          "output_type": "display_data",
          "data": {
            "image/png": "[encoded data removed]",
            "text/plain": [
              "<Figure size 1080x1080 with 2 Axes>"
            ]
          },
          "metadata": {
            "tags": [],
            "needs_background": "light"
          }
        }
      ]
    },
    {
      "cell_type": "code",
      "metadata": {
        "id": "heCWBryruF3o",
        "colab_type": "code",
        "colab": {}
      },
      "source": [
        "def converte_genero(X):\n",
        "  if X == 'M':\n",
        "    return 1\n",
        "  else:\n",
        "    return 0"
      ],
      "execution_count": 153,
      "outputs": []
    },
    {
      "cell_type": "code",
      "metadata": {
        "id": "m_HsAOSAuM3C",
        "colab_type": "code",
        "colab": {}
      },
      "source": [
        "df['gen_bin'] = df.treat.map(converte_genero)"
      ],
      "execution_count": 154,
      "outputs": []
    },
    {
      "cell_type": "code",
      "metadata": {
        "id": "GiPs8HTbuRx6",
        "colab_type": "code",
        "colab": {
          "base_uri": "https://localhost:8080/",
          "height": 459
        },
        "outputId": "9403aec3-4cb8-4d0e-a3b1-2e76ceb427a1"
      },
      "source": [
        "df.info()"
      ],
      "execution_count": 155,
      "outputs": [
        {
          "output_type": "stream",
          "text": [
            "<class 'pandas.core.frame.DataFrame'>\n",
            "RangeIndex: 446203 entries, 0 to 446202\n",
            "Data columns (total 19 columns):\n",
            " #   Column     Non-Null Count   Dtype \n",
            "---  ------     --------------   ----- \n",
            " 0   patientID  446203 non-null  object\n",
            " 1   age        446203 non-null  object\n",
            " 2   htn        446203 non-null  object\n",
            " 3   treat      446203 non-null  object\n",
            " 4   smoking    446203 non-null  object\n",
            " 5   race       446203 non-null  object\n",
            " 6   t2d        446203 non-null  object\n",
            " 7   gender     446203 non-null  object\n",
            " 8   numAge     446203 non-null  int64 \n",
            " 9   bmi        446203 non-null  int64 \n",
            " 10  tchol      446203 non-null  int64 \n",
            " 11  sbp        446203 non-null  int64 \n",
            " 12  cvd        446203 non-null  object\n",
            " 13  htn_bin    446203 non-null  int64 \n",
            " 14  treat_bin  446203 non-null  int64 \n",
            " 15  smk_bin    446203 non-null  int64 \n",
            " 16  t2d_bin    446203 non-null  int64 \n",
            " 17  cvd_bin    446203 non-null  int64 \n",
            " 18  gen_bin    446203 non-null  int64 \n",
            "dtypes: int64(10), object(9)\n",
            "memory usage: 64.7+ MB\n"
          ],
          "name": "stdout"
        }
      ]
    },
    {
      "cell_type": "code",
      "metadata": {
        "id": "maPAzP2puTI6",
        "colab_type": "code",
        "colab": {
          "base_uri": "https://localhost:8080/",
          "height": 102
        },
        "outputId": "c8f497b0-d4a5-47b6-b2ab-4cbaeb357665"
      },
      "source": [
        "df.race.value_counts()"
      ],
      "execution_count": 156,
      "outputs": [
        {
          "output_type": "execute_result",
          "data": {
            "text/plain": [
              "White         335201\n",
              "Asian/PI       84840\n",
              "Black/AfAm     23722\n",
              "AmInd           2440\n",
              "Name: race, dtype: int64"
            ]
          },
          "metadata": {
            "tags": []
          },
          "execution_count": 156
        }
      ]
    },
    {
      "cell_type": "code",
      "metadata": {
        "id": "nLOiUnZZvbbb",
        "colab_type": "code",
        "colab": {
          "base_uri": "https://localhost:8080/",
          "height": 204
        },
        "outputId": "9286676f-7235-44c8-a357-a96fe033ab7e"
      },
      "source": [
        "df.head()"
      ],
      "execution_count": 157,
      "outputs": [
        {
          "output_type": "execute_result",
          "data": {
            "text/html": [
              "<div>\n",
              "<style scoped>\n",
              "    .dataframe tbody tr th:only-of-type {\n",
              "        vertical-align: middle;\n",
              "    }\n",
              "\n",
              "    .dataframe tbody tr th {\n",
              "        vertical-align: top;\n",
              "    }\n",
              "\n",
              "    .dataframe thead th {\n",
              "        text-align: right;\n",
              "    }\n",
              "</style>\n",
              "<table border=\"1\" class=\"dataframe\">\n",
              "  <thead>\n",
              "    <tr style=\"text-align: right;\">\n",
              "      <th></th>\n",
              "      <th>patientID</th>\n",
              "      <th>age</th>\n",
              "      <th>htn</th>\n",
              "      <th>treat</th>\n",
              "      <th>smoking</th>\n",
              "      <th>race</th>\n",
              "      <th>t2d</th>\n",
              "      <th>gender</th>\n",
              "      <th>numAge</th>\n",
              "      <th>bmi</th>\n",
              "      <th>tchol</th>\n",
              "      <th>sbp</th>\n",
              "      <th>cvd</th>\n",
              "      <th>htn_bin</th>\n",
              "      <th>treat_bin</th>\n",
              "      <th>smk_bin</th>\n",
              "      <th>t2d_bin</th>\n",
              "      <th>cvd_bin</th>\n",
              "      <th>gen_bin</th>\n",
              "    </tr>\n",
              "  </thead>\n",
              "  <tbody>\n",
              "    <tr>\n",
              "      <th>0</th>\n",
              "      <td>HHUID00519967</td>\n",
              "      <td>70-90</td>\n",
              "      <td>N</td>\n",
              "      <td>N</td>\n",
              "      <td>N</td>\n",
              "      <td>White</td>\n",
              "      <td>N</td>\n",
              "      <td>M</td>\n",
              "      <td>83</td>\n",
              "      <td>17</td>\n",
              "      <td>156</td>\n",
              "      <td>113</td>\n",
              "      <td>N</td>\n",
              "      <td>0</td>\n",
              "      <td>0</td>\n",
              "      <td>0</td>\n",
              "      <td>0</td>\n",
              "      <td>0</td>\n",
              "      <td>0</td>\n",
              "    </tr>\n",
              "    <tr>\n",
              "      <th>1</th>\n",
              "      <td>HHUID00379006</td>\n",
              "      <td>40-55</td>\n",
              "      <td>N</td>\n",
              "      <td>N</td>\n",
              "      <td>N</td>\n",
              "      <td>White</td>\n",
              "      <td>N</td>\n",
              "      <td>M</td>\n",
              "      <td>44</td>\n",
              "      <td>23</td>\n",
              "      <td>167</td>\n",
              "      <td>126</td>\n",
              "      <td>N</td>\n",
              "      <td>0</td>\n",
              "      <td>0</td>\n",
              "      <td>0</td>\n",
              "      <td>0</td>\n",
              "      <td>0</td>\n",
              "      <td>0</td>\n",
              "    </tr>\n",
              "    <tr>\n",
              "      <th>2</th>\n",
              "      <td>HHUID00357476</td>\n",
              "      <td>55-70</td>\n",
              "      <td>Y</td>\n",
              "      <td>Y</td>\n",
              "      <td>N</td>\n",
              "      <td>White</td>\n",
              "      <td>N</td>\n",
              "      <td>M</td>\n",
              "      <td>62</td>\n",
              "      <td>16</td>\n",
              "      <td>214</td>\n",
              "      <td>175</td>\n",
              "      <td>N</td>\n",
              "      <td>1</td>\n",
              "      <td>1</td>\n",
              "      <td>0</td>\n",
              "      <td>0</td>\n",
              "      <td>0</td>\n",
              "      <td>0</td>\n",
              "    </tr>\n",
              "    <tr>\n",
              "      <th>3</th>\n",
              "      <td>HHUID00862369</td>\n",
              "      <td>40-55</td>\n",
              "      <td>N</td>\n",
              "      <td>N</td>\n",
              "      <td>N</td>\n",
              "      <td>White</td>\n",
              "      <td>N</td>\n",
              "      <td>M</td>\n",
              "      <td>42</td>\n",
              "      <td>22</td>\n",
              "      <td>158</td>\n",
              "      <td>102</td>\n",
              "      <td>N</td>\n",
              "      <td>0</td>\n",
              "      <td>0</td>\n",
              "      <td>0</td>\n",
              "      <td>0</td>\n",
              "      <td>0</td>\n",
              "      <td>0</td>\n",
              "    </tr>\n",
              "    <tr>\n",
              "      <th>4</th>\n",
              "      <td>HHUID00481496</td>\n",
              "      <td>55-70</td>\n",
              "      <td>N</td>\n",
              "      <td>N</td>\n",
              "      <td>N</td>\n",
              "      <td>White</td>\n",
              "      <td>N</td>\n",
              "      <td>M</td>\n",
              "      <td>63</td>\n",
              "      <td>24</td>\n",
              "      <td>244</td>\n",
              "      <td>132</td>\n",
              "      <td>N</td>\n",
              "      <td>0</td>\n",
              "      <td>0</td>\n",
              "      <td>0</td>\n",
              "      <td>0</td>\n",
              "      <td>0</td>\n",
              "      <td>0</td>\n",
              "    </tr>\n",
              "  </tbody>\n",
              "</table>\n",
              "</div>"
            ],
            "text/plain": [
              "       patientID    age htn treat  ... smk_bin t2d_bin cvd_bin gen_bin\n",
              "0  HHUID00519967  70-90   N     N  ...       0       0       0       0\n",
              "1  HHUID00379006  40-55   N     N  ...       0       0       0       0\n",
              "2  HHUID00357476  55-70   Y     Y  ...       0       0       0       0\n",
              "3  HHUID00862369  40-55   N     N  ...       0       0       0       0\n",
              "4  HHUID00481496  55-70   N     N  ...       0       0       0       0\n",
              "\n",
              "[5 rows x 19 columns]"
            ]
          },
          "metadata": {
            "tags": []
          },
          "execution_count": 157
        }
      ]
    },
    {
      "cell_type": "code",
      "metadata": {
        "id": "v6Oblw8qwmzX",
        "colab_type": "code",
        "colab": {
          "base_uri": "https://localhost:8080/",
          "height": 357
        },
        "outputId": "73546605-d514-4817-bba0-29c81d3d6bfe"
      },
      "source": [
        "df.isnull().sum()"
      ],
      "execution_count": 158,
      "outputs": [
        {
          "output_type": "execute_result",
          "data": {
            "text/plain": [
              "patientID    0\n",
              "age          0\n",
              "htn          0\n",
              "treat        0\n",
              "smoking      0\n",
              "race         0\n",
              "t2d          0\n",
              "gender       0\n",
              "numAge       0\n",
              "bmi          0\n",
              "tchol        0\n",
              "sbp          0\n",
              "cvd          0\n",
              "htn_bin      0\n",
              "treat_bin    0\n",
              "smk_bin      0\n",
              "t2d_bin      0\n",
              "cvd_bin      0\n",
              "gen_bin      0\n",
              "dtype: int64"
            ]
          },
          "metadata": {
            "tags": []
          },
          "execution_count": 158
        }
      ]
    },
    {
      "cell_type": "code",
      "metadata": {
        "id": "yR76gwfvw3LZ",
        "colab_type": "code",
        "colab": {
          "base_uri": "https://localhost:8080/",
          "height": 204
        },
        "outputId": "e01ea1d0-f411-4d2b-bcf7-ce0cd6f703d4"
      },
      "source": [
        "df.drop(['htn', 'treat', 'smoking', 't2d', 'gender', 'cvd'], axis = 1, inplace = True)\n",
        "df.head()"
      ],
      "execution_count": 159,
      "outputs": [
        {
          "output_type": "execute_result",
          "data": {
            "text/html": [
              "<div>\n",
              "<style scoped>\n",
              "    .dataframe tbody tr th:only-of-type {\n",
              "        vertical-align: middle;\n",
              "    }\n",
              "\n",
              "    .dataframe tbody tr th {\n",
              "        vertical-align: top;\n",
              "    }\n",
              "\n",
              "    .dataframe thead th {\n",
              "        text-align: right;\n",
              "    }\n",
              "</style>\n",
              "<table border=\"1\" class=\"dataframe\">\n",
              "  <thead>\n",
              "    <tr style=\"text-align: right;\">\n",
              "      <th></th>\n",
              "      <th>patientID</th>\n",
              "      <th>age</th>\n",
              "      <th>race</th>\n",
              "      <th>numAge</th>\n",
              "      <th>bmi</th>\n",
              "      <th>tchol</th>\n",
              "      <th>sbp</th>\n",
              "      <th>htn_bin</th>\n",
              "      <th>treat_bin</th>\n",
              "      <th>smk_bin</th>\n",
              "      <th>t2d_bin</th>\n",
              "      <th>cvd_bin</th>\n",
              "      <th>gen_bin</th>\n",
              "    </tr>\n",
              "  </thead>\n",
              "  <tbody>\n",
              "    <tr>\n",
              "      <th>0</th>\n",
              "      <td>HHUID00519967</td>\n",
              "      <td>70-90</td>\n",
              "      <td>White</td>\n",
              "      <td>83</td>\n",
              "      <td>17</td>\n",
              "      <td>156</td>\n",
              "      <td>113</td>\n",
              "      <td>0</td>\n",
              "      <td>0</td>\n",
              "      <td>0</td>\n",
              "      <td>0</td>\n",
              "      <td>0</td>\n",
              "      <td>0</td>\n",
              "    </tr>\n",
              "    <tr>\n",
              "      <th>1</th>\n",
              "      <td>HHUID00379006</td>\n",
              "      <td>40-55</td>\n",
              "      <td>White</td>\n",
              "      <td>44</td>\n",
              "      <td>23</td>\n",
              "      <td>167</td>\n",
              "      <td>126</td>\n",
              "      <td>0</td>\n",
              "      <td>0</td>\n",
              "      <td>0</td>\n",
              "      <td>0</td>\n",
              "      <td>0</td>\n",
              "      <td>0</td>\n",
              "    </tr>\n",
              "    <tr>\n",
              "      <th>2</th>\n",
              "      <td>HHUID00357476</td>\n",
              "      <td>55-70</td>\n",
              "      <td>White</td>\n",
              "      <td>62</td>\n",
              "      <td>16</td>\n",
              "      <td>214</td>\n",
              "      <td>175</td>\n",
              "      <td>1</td>\n",
              "      <td>1</td>\n",
              "      <td>0</td>\n",
              "      <td>0</td>\n",
              "      <td>0</td>\n",
              "      <td>0</td>\n",
              "    </tr>\n",
              "    <tr>\n",
              "      <th>3</th>\n",
              "      <td>HHUID00862369</td>\n",
              "      <td>40-55</td>\n",
              "      <td>White</td>\n",
              "      <td>42</td>\n",
              "      <td>22</td>\n",
              "      <td>158</td>\n",
              "      <td>102</td>\n",
              "      <td>0</td>\n",
              "      <td>0</td>\n",
              "      <td>0</td>\n",
              "      <td>0</td>\n",
              "      <td>0</td>\n",
              "      <td>0</td>\n",
              "    </tr>\n",
              "    <tr>\n",
              "      <th>4</th>\n",
              "      <td>HHUID00481496</td>\n",
              "      <td>55-70</td>\n",
              "      <td>White</td>\n",
              "      <td>63</td>\n",
              "      <td>24</td>\n",
              "      <td>244</td>\n",
              "      <td>132</td>\n",
              "      <td>0</td>\n",
              "      <td>0</td>\n",
              "      <td>0</td>\n",
              "      <td>0</td>\n",
              "      <td>0</td>\n",
              "      <td>0</td>\n",
              "    </tr>\n",
              "  </tbody>\n",
              "</table>\n",
              "</div>"
            ],
            "text/plain": [
              "       patientID    age   race  numAge  ...  smk_bin  t2d_bin  cvd_bin  gen_bin\n",
              "0  HHUID00519967  70-90  White      83  ...        0        0        0        0\n",
              "1  HHUID00379006  40-55  White      44  ...        0        0        0        0\n",
              "2  HHUID00357476  55-70  White      62  ...        0        0        0        0\n",
              "3  HHUID00862369  40-55  White      42  ...        0        0        0        0\n",
              "4  HHUID00481496  55-70  White      63  ...        0        0        0        0\n",
              "\n",
              "[5 rows x 13 columns]"
            ]
          },
          "metadata": {
            "tags": []
          },
          "execution_count": 159
        }
      ]
    },
    {
      "cell_type": "code",
      "metadata": {
        "id": "UtVO2bXz0lbV",
        "colab_type": "code",
        "colab": {
          "base_uri": "https://localhost:8080/",
          "height": 204
        },
        "outputId": "42c8aa17-8201-4279-b2c0-f309bdf20ebe"
      },
      "source": [
        "df = pd.concat([df,pd.get_dummies(df.race)], axis=1)\n",
        "df.head()"
      ],
      "execution_count": 160,
      "outputs": [
        {
          "output_type": "execute_result",
          "data": {
            "text/html": [
              "<div>\n",
              "<style scoped>\n",
              "    .dataframe tbody tr th:only-of-type {\n",
              "        vertical-align: middle;\n",
              "    }\n",
              "\n",
              "    .dataframe tbody tr th {\n",
              "        vertical-align: top;\n",
              "    }\n",
              "\n",
              "    .dataframe thead th {\n",
              "        text-align: right;\n",
              "    }\n",
              "</style>\n",
              "<table border=\"1\" class=\"dataframe\">\n",
              "  <thead>\n",
              "    <tr style=\"text-align: right;\">\n",
              "      <th></th>\n",
              "      <th>patientID</th>\n",
              "      <th>age</th>\n",
              "      <th>race</th>\n",
              "      <th>numAge</th>\n",
              "      <th>bmi</th>\n",
              "      <th>tchol</th>\n",
              "      <th>sbp</th>\n",
              "      <th>htn_bin</th>\n",
              "      <th>treat_bin</th>\n",
              "      <th>smk_bin</th>\n",
              "      <th>t2d_bin</th>\n",
              "      <th>cvd_bin</th>\n",
              "      <th>gen_bin</th>\n",
              "      <th>AmInd</th>\n",
              "      <th>Asian/PI</th>\n",
              "      <th>Black/AfAm</th>\n",
              "      <th>White</th>\n",
              "    </tr>\n",
              "  </thead>\n",
              "  <tbody>\n",
              "    <tr>\n",
              "      <th>0</th>\n",
              "      <td>HHUID00519967</td>\n",
              "      <td>70-90</td>\n",
              "      <td>White</td>\n",
              "      <td>83</td>\n",
              "      <td>17</td>\n",
              "      <td>156</td>\n",
              "      <td>113</td>\n",
              "      <td>0</td>\n",
              "      <td>0</td>\n",
              "      <td>0</td>\n",
              "      <td>0</td>\n",
              "      <td>0</td>\n",
              "      <td>0</td>\n",
              "      <td>0</td>\n",
              "      <td>0</td>\n",
              "      <td>0</td>\n",
              "      <td>1</td>\n",
              "    </tr>\n",
              "    <tr>\n",
              "      <th>1</th>\n",
              "      <td>HHUID00379006</td>\n",
              "      <td>40-55</td>\n",
              "      <td>White</td>\n",
              "      <td>44</td>\n",
              "      <td>23</td>\n",
              "      <td>167</td>\n",
              "      <td>126</td>\n",
              "      <td>0</td>\n",
              "      <td>0</td>\n",
              "      <td>0</td>\n",
              "      <td>0</td>\n",
              "      <td>0</td>\n",
              "      <td>0</td>\n",
              "      <td>0</td>\n",
              "      <td>0</td>\n",
              "      <td>0</td>\n",
              "      <td>1</td>\n",
              "    </tr>\n",
              "    <tr>\n",
              "      <th>2</th>\n",
              "      <td>HHUID00357476</td>\n",
              "      <td>55-70</td>\n",
              "      <td>White</td>\n",
              "      <td>62</td>\n",
              "      <td>16</td>\n",
              "      <td>214</td>\n",
              "      <td>175</td>\n",
              "      <td>1</td>\n",
              "      <td>1</td>\n",
              "      <td>0</td>\n",
              "      <td>0</td>\n",
              "      <td>0</td>\n",
              "      <td>0</td>\n",
              "      <td>0</td>\n",
              "      <td>0</td>\n",
              "      <td>0</td>\n",
              "      <td>1</td>\n",
              "    </tr>\n",
              "    <tr>\n",
              "      <th>3</th>\n",
              "      <td>HHUID00862369</td>\n",
              "      <td>40-55</td>\n",
              "      <td>White</td>\n",
              "      <td>42</td>\n",
              "      <td>22</td>\n",
              "      <td>158</td>\n",
              "      <td>102</td>\n",
              "      <td>0</td>\n",
              "      <td>0</td>\n",
              "      <td>0</td>\n",
              "      <td>0</td>\n",
              "      <td>0</td>\n",
              "      <td>0</td>\n",
              "      <td>0</td>\n",
              "      <td>0</td>\n",
              "      <td>0</td>\n",
              "      <td>1</td>\n",
              "    </tr>\n",
              "    <tr>\n",
              "      <th>4</th>\n",
              "      <td>HHUID00481496</td>\n",
              "      <td>55-70</td>\n",
              "      <td>White</td>\n",
              "      <td>63</td>\n",
              "      <td>24</td>\n",
              "      <td>244</td>\n",
              "      <td>132</td>\n",
              "      <td>0</td>\n",
              "      <td>0</td>\n",
              "      <td>0</td>\n",
              "      <td>0</td>\n",
              "      <td>0</td>\n",
              "      <td>0</td>\n",
              "      <td>0</td>\n",
              "      <td>0</td>\n",
              "      <td>0</td>\n",
              "      <td>1</td>\n",
              "    </tr>\n",
              "  </tbody>\n",
              "</table>\n",
              "</div>"
            ],
            "text/plain": [
              "       patientID    age   race  numAge  ...  AmInd  Asian/PI  Black/AfAm  White\n",
              "0  HHUID00519967  70-90  White      83  ...      0         0           0      1\n",
              "1  HHUID00379006  40-55  White      44  ...      0         0           0      1\n",
              "2  HHUID00357476  55-70  White      62  ...      0         0           0      1\n",
              "3  HHUID00862369  40-55  White      42  ...      0         0           0      1\n",
              "4  HHUID00481496  55-70  White      63  ...      0         0           0      1\n",
              "\n",
              "[5 rows x 17 columns]"
            ]
          },
          "metadata": {
            "tags": []
          },
          "execution_count": 160
        }
      ]
    },
    {
      "cell_type": "code",
      "metadata": {
        "id": "qbibSZK81NwV",
        "colab_type": "code",
        "colab": {}
      },
      "source": [
        "df.drop(['race'], axis = 1,inplace=True)"
      ],
      "execution_count": 161,
      "outputs": []
    },
    {
      "cell_type": "code",
      "metadata": {
        "id": "K0Ru9Isq2jfs",
        "colab_type": "code",
        "colab": {}
      },
      "source": [
        ""
      ],
      "execution_count": 161,
      "outputs": []
    },
    {
      "cell_type": "code",
      "metadata": {
        "id": "or1DNETx1rb3",
        "colab_type": "code",
        "colab": {
          "base_uri": "https://localhost:8080/",
          "height": 204
        },
        "outputId": "71ecc041-73e0-4d66-ca4c-e962aed600a8"
      },
      "source": [
        "df.head()"
      ],
      "execution_count": 162,
      "outputs": [
        {
          "output_type": "execute_result",
          "data": {
            "text/html": [
              "<div>\n",
              "<style scoped>\n",
              "    .dataframe tbody tr th:only-of-type {\n",
              "        vertical-align: middle;\n",
              "    }\n",
              "\n",
              "    .dataframe tbody tr th {\n",
              "        vertical-align: top;\n",
              "    }\n",
              "\n",
              "    .dataframe thead th {\n",
              "        text-align: right;\n",
              "    }\n",
              "</style>\n",
              "<table border=\"1\" class=\"dataframe\">\n",
              "  <thead>\n",
              "    <tr style=\"text-align: right;\">\n",
              "      <th></th>\n",
              "      <th>patientID</th>\n",
              "      <th>age</th>\n",
              "      <th>numAge</th>\n",
              "      <th>bmi</th>\n",
              "      <th>tchol</th>\n",
              "      <th>sbp</th>\n",
              "      <th>htn_bin</th>\n",
              "      <th>treat_bin</th>\n",
              "      <th>smk_bin</th>\n",
              "      <th>t2d_bin</th>\n",
              "      <th>cvd_bin</th>\n",
              "      <th>gen_bin</th>\n",
              "      <th>AmInd</th>\n",
              "      <th>Asian/PI</th>\n",
              "      <th>Black/AfAm</th>\n",
              "      <th>White</th>\n",
              "    </tr>\n",
              "  </thead>\n",
              "  <tbody>\n",
              "    <tr>\n",
              "      <th>0</th>\n",
              "      <td>HHUID00519967</td>\n",
              "      <td>70-90</td>\n",
              "      <td>83</td>\n",
              "      <td>17</td>\n",
              "      <td>156</td>\n",
              "      <td>113</td>\n",
              "      <td>0</td>\n",
              "      <td>0</td>\n",
              "      <td>0</td>\n",
              "      <td>0</td>\n",
              "      <td>0</td>\n",
              "      <td>0</td>\n",
              "      <td>0</td>\n",
              "      <td>0</td>\n",
              "      <td>0</td>\n",
              "      <td>1</td>\n",
              "    </tr>\n",
              "    <tr>\n",
              "      <th>1</th>\n",
              "      <td>HHUID00379006</td>\n",
              "      <td>40-55</td>\n",
              "      <td>44</td>\n",
              "      <td>23</td>\n",
              "      <td>167</td>\n",
              "      <td>126</td>\n",
              "      <td>0</td>\n",
              "      <td>0</td>\n",
              "      <td>0</td>\n",
              "      <td>0</td>\n",
              "      <td>0</td>\n",
              "      <td>0</td>\n",
              "      <td>0</td>\n",
              "      <td>0</td>\n",
              "      <td>0</td>\n",
              "      <td>1</td>\n",
              "    </tr>\n",
              "    <tr>\n",
              "      <th>2</th>\n",
              "      <td>HHUID00357476</td>\n",
              "      <td>55-70</td>\n",
              "      <td>62</td>\n",
              "      <td>16</td>\n",
              "      <td>214</td>\n",
              "      <td>175</td>\n",
              "      <td>1</td>\n",
              "      <td>1</td>\n",
              "      <td>0</td>\n",
              "      <td>0</td>\n",
              "      <td>0</td>\n",
              "      <td>0</td>\n",
              "      <td>0</td>\n",
              "      <td>0</td>\n",
              "      <td>0</td>\n",
              "      <td>1</td>\n",
              "    </tr>\n",
              "    <tr>\n",
              "      <th>3</th>\n",
              "      <td>HHUID00862369</td>\n",
              "      <td>40-55</td>\n",
              "      <td>42</td>\n",
              "      <td>22</td>\n",
              "      <td>158</td>\n",
              "      <td>102</td>\n",
              "      <td>0</td>\n",
              "      <td>0</td>\n",
              "      <td>0</td>\n",
              "      <td>0</td>\n",
              "      <td>0</td>\n",
              "      <td>0</td>\n",
              "      <td>0</td>\n",
              "      <td>0</td>\n",
              "      <td>0</td>\n",
              "      <td>1</td>\n",
              "    </tr>\n",
              "    <tr>\n",
              "      <th>4</th>\n",
              "      <td>HHUID00481496</td>\n",
              "      <td>55-70</td>\n",
              "      <td>63</td>\n",
              "      <td>24</td>\n",
              "      <td>244</td>\n",
              "      <td>132</td>\n",
              "      <td>0</td>\n",
              "      <td>0</td>\n",
              "      <td>0</td>\n",
              "      <td>0</td>\n",
              "      <td>0</td>\n",
              "      <td>0</td>\n",
              "      <td>0</td>\n",
              "      <td>0</td>\n",
              "      <td>0</td>\n",
              "      <td>1</td>\n",
              "    </tr>\n",
              "  </tbody>\n",
              "</table>\n",
              "</div>"
            ],
            "text/plain": [
              "       patientID    age  numAge  bmi  ...  AmInd  Asian/PI  Black/AfAm  White\n",
              "0  HHUID00519967  70-90      83   17  ...      0         0           0      1\n",
              "1  HHUID00379006  40-55      44   23  ...      0         0           0      1\n",
              "2  HHUID00357476  55-70      62   16  ...      0         0           0      1\n",
              "3  HHUID00862369  40-55      42   22  ...      0         0           0      1\n",
              "4  HHUID00481496  55-70      63   24  ...      0         0           0      1\n",
              "\n",
              "[5 rows x 16 columns]"
            ]
          },
          "metadata": {
            "tags": []
          },
          "execution_count": 162
        }
      ]
    },
    {
      "cell_type": "code",
      "metadata": {
        "id": "9lIwvJad1zSU",
        "colab_type": "code",
        "colab": {}
      },
      "source": [
        "from sklearn.linear_model import LogisticRegression\n",
        "from sklearn.model_selection import train_test_split"
      ],
      "execution_count": 163,
      "outputs": []
    },
    {
      "cell_type": "code",
      "metadata": {
        "id": "jlz5svTo190o",
        "colab_type": "code",
        "colab": {}
      },
      "source": [
        "X_train,x_test,y_train,y_test = train_test_split(df.drop(['patientID','age','cvd_bin'],1),df.cvd_bin ,test_size=0.2)"
      ],
      "execution_count": 164,
      "outputs": []
    },
    {
      "cell_type": "code",
      "metadata": {
        "id": "wlxhxrky2UeE",
        "colab_type": "code",
        "colab": {}
      },
      "source": [
        "lr = LogisticRegression()"
      ],
      "execution_count": 165,
      "outputs": []
    },
    {
      "cell_type": "code",
      "metadata": {
        "id": "VRf7Zb423k6M",
        "colab_type": "code",
        "colab": {
          "base_uri": "https://localhost:8080/",
          "height": 238
        },
        "outputId": "caf20957-e4f3-44ba-e5be-389c93c2857f"
      },
      "source": [
        "lr.fit(X_train, y_train)"
      ],
      "execution_count": 166,
      "outputs": [
        {
          "output_type": "stream",
          "text": [
            "/usr/local/lib/python3.6/dist-packages/sklearn/linear_model/_logistic.py:940: ConvergenceWarning: lbfgs failed to converge (status=1):\n",
            "STOP: TOTAL NO. of ITERATIONS REACHED LIMIT.\n",
            "\n",
            "Increase the number of iterations (max_iter) or scale the data as shown in:\n",
            "    https://scikit-learn.org/stable/modules/preprocessing.html\n",
            "Please also refer to the documentation for alternative solver options:\n",
            "    https://scikit-learn.org/stable/modules/linear_model.html#logistic-regression\n",
            "  extra_warning_msg=_LOGISTIC_SOLVER_CONVERGENCE_MSG)\n"
          ],
          "name": "stderr"
        },
        {
          "output_type": "execute_result",
          "data": {
            "text/plain": [
              "LogisticRegression(C=1.0, class_weight=None, dual=False, fit_intercept=True,\n",
              "                   intercept_scaling=1, l1_ratio=None, max_iter=100,\n",
              "                   multi_class='auto', n_jobs=None, penalty='l2',\n",
              "                   random_state=None, solver='lbfgs', tol=0.0001, verbose=0,\n",
              "                   warm_start=False)"
            ]
          },
          "metadata": {
            "tags": []
          },
          "execution_count": 166
        }
      ]
    },
    {
      "cell_type": "code",
      "metadata": {
        "id": "XBLdgET33xsd",
        "colab_type": "code",
        "colab": {}
      },
      "source": [
        "# Meta: AUC > 0.75 | Sens > 80% | Espec: 95%"
      ],
      "execution_count": 167,
      "outputs": []
    },
    {
      "cell_type": "code",
      "metadata": {
        "id": "ADXpgBEp38le",
        "colab_type": "code",
        "colab": {}
      },
      "source": [
        "from sklearn.metrics import roc_auc_score"
      ],
      "execution_count": 168,
      "outputs": []
    },
    {
      "cell_type": "code",
      "metadata": {
        "id": "i_21d2814BNl",
        "colab_type": "code",
        "colab": {}
      },
      "source": [
        "p = lr.predict(x_test)"
      ],
      "execution_count": 169,
      "outputs": []
    },
    {
      "cell_type": "code",
      "metadata": {
        "id": "HvpT_vf44NqW",
        "colab_type": "code",
        "colab": {
          "base_uri": "https://localhost:8080/",
          "height": 34
        },
        "outputId": "449d1b57-b0c3-448b-b52c-fa58e59665ae"
      },
      "source": [
        "print(roc_auc_score(y_test, p))"
      ],
      "execution_count": 170,
      "outputs": [
        {
          "output_type": "stream",
          "text": [
            "0.5356899598933861\n"
          ],
          "name": "stdout"
        }
      ]
    },
    {
      "cell_type": "code",
      "metadata": {
        "id": "eWM0KCiD4VIH",
        "colab_type": "code",
        "colab": {}
      },
      "source": [
        "from sklearn.ensemble import RandomForestClassifier"
      ],
      "execution_count": 171,
      "outputs": []
    },
    {
      "cell_type": "code",
      "metadata": {
        "id": "zXWr9tsf4fRo",
        "colab_type": "code",
        "colab": {}
      },
      "source": [
        "rf = RandomForestClassifier()"
      ],
      "execution_count": 172,
      "outputs": []
    },
    {
      "cell_type": "code",
      "metadata": {
        "id": "TlcLchnw4gh4",
        "colab_type": "code",
        "colab": {
          "base_uri": "https://localhost:8080/",
          "height": 153
        },
        "outputId": "49424c19-2175-4d0d-b1c0-bdfc00d93697"
      },
      "source": [
        "rf.fit(X_train,y_train)"
      ],
      "execution_count": 173,
      "outputs": [
        {
          "output_type": "execute_result",
          "data": {
            "text/plain": [
              "RandomForestClassifier(bootstrap=True, ccp_alpha=0.0, class_weight=None,\n",
              "                       criterion='gini', max_depth=None, max_features='auto',\n",
              "                       max_leaf_nodes=None, max_samples=None,\n",
              "                       min_impurity_decrease=0.0, min_impurity_split=None,\n",
              "                       min_samples_leaf=1, min_samples_split=2,\n",
              "                       min_weight_fraction_leaf=0.0, n_estimators=100,\n",
              "                       n_jobs=None, oob_score=False, random_state=None,\n",
              "                       verbose=0, warm_start=False)"
            ]
          },
          "metadata": {
            "tags": []
          },
          "execution_count": 173
        }
      ]
    },
    {
      "cell_type": "code",
      "metadata": {
        "id": "X3_3IuUv4iQp",
        "colab_type": "code",
        "colab": {}
      },
      "source": [
        "p_rf = rf.predict(x_test)"
      ],
      "execution_count": 174,
      "outputs": []
    },
    {
      "cell_type": "code",
      "metadata": {
        "id": "AV5dAaRh4l9g",
        "colab_type": "code",
        "colab": {
          "base_uri": "https://localhost:8080/",
          "height": 34
        },
        "outputId": "4ffe6af4-1362-4f18-d15e-8d71bd54bb50"
      },
      "source": [
        "print(roc_auc_score(y_test, p_rf))"
      ],
      "execution_count": 175,
      "outputs": [
        {
          "output_type": "stream",
          "text": [
            "0.5615283543135274\n"
          ],
          "name": "stdout"
        }
      ]
    },
    {
      "cell_type": "code",
      "metadata": {
        "id": "Kxv4ABIS4qRa",
        "colab_type": "code",
        "colab": {
          "base_uri": "https://localhost:8080/",
          "height": 204
        },
        "outputId": "f7bfc1f7-9192-4fb6-824d-6ec033e0d7f6"
      },
      "source": [
        "df.head()"
      ],
      "execution_count": 176,
      "outputs": [
        {
          "output_type": "execute_result",
          "data": {
            "text/html": [
              "<div>\n",
              "<style scoped>\n",
              "    .dataframe tbody tr th:only-of-type {\n",
              "        vertical-align: middle;\n",
              "    }\n",
              "\n",
              "    .dataframe tbody tr th {\n",
              "        vertical-align: top;\n",
              "    }\n",
              "\n",
              "    .dataframe thead th {\n",
              "        text-align: right;\n",
              "    }\n",
              "</style>\n",
              "<table border=\"1\" class=\"dataframe\">\n",
              "  <thead>\n",
              "    <tr style=\"text-align: right;\">\n",
              "      <th></th>\n",
              "      <th>patientID</th>\n",
              "      <th>age</th>\n",
              "      <th>numAge</th>\n",
              "      <th>bmi</th>\n",
              "      <th>tchol</th>\n",
              "      <th>sbp</th>\n",
              "      <th>htn_bin</th>\n",
              "      <th>treat_bin</th>\n",
              "      <th>smk_bin</th>\n",
              "      <th>t2d_bin</th>\n",
              "      <th>cvd_bin</th>\n",
              "      <th>gen_bin</th>\n",
              "      <th>AmInd</th>\n",
              "      <th>Asian/PI</th>\n",
              "      <th>Black/AfAm</th>\n",
              "      <th>White</th>\n",
              "    </tr>\n",
              "  </thead>\n",
              "  <tbody>\n",
              "    <tr>\n",
              "      <th>0</th>\n",
              "      <td>HHUID00519967</td>\n",
              "      <td>70-90</td>\n",
              "      <td>83</td>\n",
              "      <td>17</td>\n",
              "      <td>156</td>\n",
              "      <td>113</td>\n",
              "      <td>0</td>\n",
              "      <td>0</td>\n",
              "      <td>0</td>\n",
              "      <td>0</td>\n",
              "      <td>0</td>\n",
              "      <td>0</td>\n",
              "      <td>0</td>\n",
              "      <td>0</td>\n",
              "      <td>0</td>\n",
              "      <td>1</td>\n",
              "    </tr>\n",
              "    <tr>\n",
              "      <th>1</th>\n",
              "      <td>HHUID00379006</td>\n",
              "      <td>40-55</td>\n",
              "      <td>44</td>\n",
              "      <td>23</td>\n",
              "      <td>167</td>\n",
              "      <td>126</td>\n",
              "      <td>0</td>\n",
              "      <td>0</td>\n",
              "      <td>0</td>\n",
              "      <td>0</td>\n",
              "      <td>0</td>\n",
              "      <td>0</td>\n",
              "      <td>0</td>\n",
              "      <td>0</td>\n",
              "      <td>0</td>\n",
              "      <td>1</td>\n",
              "    </tr>\n",
              "    <tr>\n",
              "      <th>2</th>\n",
              "      <td>HHUID00357476</td>\n",
              "      <td>55-70</td>\n",
              "      <td>62</td>\n",
              "      <td>16</td>\n",
              "      <td>214</td>\n",
              "      <td>175</td>\n",
              "      <td>1</td>\n",
              "      <td>1</td>\n",
              "      <td>0</td>\n",
              "      <td>0</td>\n",
              "      <td>0</td>\n",
              "      <td>0</td>\n",
              "      <td>0</td>\n",
              "      <td>0</td>\n",
              "      <td>0</td>\n",
              "      <td>1</td>\n",
              "    </tr>\n",
              "    <tr>\n",
              "      <th>3</th>\n",
              "      <td>HHUID00862369</td>\n",
              "      <td>40-55</td>\n",
              "      <td>42</td>\n",
              "      <td>22</td>\n",
              "      <td>158</td>\n",
              "      <td>102</td>\n",
              "      <td>0</td>\n",
              "      <td>0</td>\n",
              "      <td>0</td>\n",
              "      <td>0</td>\n",
              "      <td>0</td>\n",
              "      <td>0</td>\n",
              "      <td>0</td>\n",
              "      <td>0</td>\n",
              "      <td>0</td>\n",
              "      <td>1</td>\n",
              "    </tr>\n",
              "    <tr>\n",
              "      <th>4</th>\n",
              "      <td>HHUID00481496</td>\n",
              "      <td>55-70</td>\n",
              "      <td>63</td>\n",
              "      <td>24</td>\n",
              "      <td>244</td>\n",
              "      <td>132</td>\n",
              "      <td>0</td>\n",
              "      <td>0</td>\n",
              "      <td>0</td>\n",
              "      <td>0</td>\n",
              "      <td>0</td>\n",
              "      <td>0</td>\n",
              "      <td>0</td>\n",
              "      <td>0</td>\n",
              "      <td>0</td>\n",
              "      <td>1</td>\n",
              "    </tr>\n",
              "  </tbody>\n",
              "</table>\n",
              "</div>"
            ],
            "text/plain": [
              "       patientID    age  numAge  bmi  ...  AmInd  Asian/PI  Black/AfAm  White\n",
              "0  HHUID00519967  70-90      83   17  ...      0         0           0      1\n",
              "1  HHUID00379006  40-55      44   23  ...      0         0           0      1\n",
              "2  HHUID00357476  55-70      62   16  ...      0         0           0      1\n",
              "3  HHUID00862369  40-55      42   22  ...      0         0           0      1\n",
              "4  HHUID00481496  55-70      63   24  ...      0         0           0      1\n",
              "\n",
              "[5 rows x 16 columns]"
            ]
          },
          "metadata": {
            "tags": []
          },
          "execution_count": 176
        }
      ]
    },
    {
      "cell_type": "code",
      "metadata": {
        "id": "RQ-O8Ua45gGb",
        "colab_type": "code",
        "colab": {}
      },
      "source": [
        "df.drop(columns=['numAge', 'patientID'], axis=1, inplace=True)"
      ],
      "execution_count": 177,
      "outputs": []
    },
    {
      "cell_type": "code",
      "metadata": {
        "id": "o1ADMLj152hK",
        "colab_type": "code",
        "colab": {
          "base_uri": "https://localhost:8080/",
          "height": 204
        },
        "outputId": "de93f9a6-e05d-441f-f15c-9a8b6b5d3643"
      },
      "source": [
        "df.head()"
      ],
      "execution_count": 178,
      "outputs": [
        {
          "output_type": "execute_result",
          "data": {
            "text/html": [
              "<div>\n",
              "<style scoped>\n",
              "    .dataframe tbody tr th:only-of-type {\n",
              "        vertical-align: middle;\n",
              "    }\n",
              "\n",
              "    .dataframe tbody tr th {\n",
              "        vertical-align: top;\n",
              "    }\n",
              "\n",
              "    .dataframe thead th {\n",
              "        text-align: right;\n",
              "    }\n",
              "</style>\n",
              "<table border=\"1\" class=\"dataframe\">\n",
              "  <thead>\n",
              "    <tr style=\"text-align: right;\">\n",
              "      <th></th>\n",
              "      <th>age</th>\n",
              "      <th>bmi</th>\n",
              "      <th>tchol</th>\n",
              "      <th>sbp</th>\n",
              "      <th>htn_bin</th>\n",
              "      <th>treat_bin</th>\n",
              "      <th>smk_bin</th>\n",
              "      <th>t2d_bin</th>\n",
              "      <th>cvd_bin</th>\n",
              "      <th>gen_bin</th>\n",
              "      <th>AmInd</th>\n",
              "      <th>Asian/PI</th>\n",
              "      <th>Black/AfAm</th>\n",
              "      <th>White</th>\n",
              "    </tr>\n",
              "  </thead>\n",
              "  <tbody>\n",
              "    <tr>\n",
              "      <th>0</th>\n",
              "      <td>70-90</td>\n",
              "      <td>17</td>\n",
              "      <td>156</td>\n",
              "      <td>113</td>\n",
              "      <td>0</td>\n",
              "      <td>0</td>\n",
              "      <td>0</td>\n",
              "      <td>0</td>\n",
              "      <td>0</td>\n",
              "      <td>0</td>\n",
              "      <td>0</td>\n",
              "      <td>0</td>\n",
              "      <td>0</td>\n",
              "      <td>1</td>\n",
              "    </tr>\n",
              "    <tr>\n",
              "      <th>1</th>\n",
              "      <td>40-55</td>\n",
              "      <td>23</td>\n",
              "      <td>167</td>\n",
              "      <td>126</td>\n",
              "      <td>0</td>\n",
              "      <td>0</td>\n",
              "      <td>0</td>\n",
              "      <td>0</td>\n",
              "      <td>0</td>\n",
              "      <td>0</td>\n",
              "      <td>0</td>\n",
              "      <td>0</td>\n",
              "      <td>0</td>\n",
              "      <td>1</td>\n",
              "    </tr>\n",
              "    <tr>\n",
              "      <th>2</th>\n",
              "      <td>55-70</td>\n",
              "      <td>16</td>\n",
              "      <td>214</td>\n",
              "      <td>175</td>\n",
              "      <td>1</td>\n",
              "      <td>1</td>\n",
              "      <td>0</td>\n",
              "      <td>0</td>\n",
              "      <td>0</td>\n",
              "      <td>0</td>\n",
              "      <td>0</td>\n",
              "      <td>0</td>\n",
              "      <td>0</td>\n",
              "      <td>1</td>\n",
              "    </tr>\n",
              "    <tr>\n",
              "      <th>3</th>\n",
              "      <td>40-55</td>\n",
              "      <td>22</td>\n",
              "      <td>158</td>\n",
              "      <td>102</td>\n",
              "      <td>0</td>\n",
              "      <td>0</td>\n",
              "      <td>0</td>\n",
              "      <td>0</td>\n",
              "      <td>0</td>\n",
              "      <td>0</td>\n",
              "      <td>0</td>\n",
              "      <td>0</td>\n",
              "      <td>0</td>\n",
              "      <td>1</td>\n",
              "    </tr>\n",
              "    <tr>\n",
              "      <th>4</th>\n",
              "      <td>55-70</td>\n",
              "      <td>24</td>\n",
              "      <td>244</td>\n",
              "      <td>132</td>\n",
              "      <td>0</td>\n",
              "      <td>0</td>\n",
              "      <td>0</td>\n",
              "      <td>0</td>\n",
              "      <td>0</td>\n",
              "      <td>0</td>\n",
              "      <td>0</td>\n",
              "      <td>0</td>\n",
              "      <td>0</td>\n",
              "      <td>1</td>\n",
              "    </tr>\n",
              "  </tbody>\n",
              "</table>\n",
              "</div>"
            ],
            "text/plain": [
              "     age  bmi  tchol  sbp  htn_bin  ...  gen_bin  AmInd  Asian/PI  Black/AfAm  White\n",
              "0  70-90   17    156  113        0  ...        0      0         0           0      1\n",
              "1  40-55   23    167  126        0  ...        0      0         0           0      1\n",
              "2  55-70   16    214  175        1  ...        0      0         0           0      1\n",
              "3  40-55   22    158  102        0  ...        0      0         0           0      1\n",
              "4  55-70   24    244  132        0  ...        0      0         0           0      1\n",
              "\n",
              "[5 rows x 14 columns]"
            ]
          },
          "metadata": {
            "tags": []
          },
          "execution_count": 178
        }
      ]
    },
    {
      "cell_type": "code",
      "metadata": {
        "id": "p-0WucD_5-ZT",
        "colab_type": "code",
        "colab": {}
      },
      "source": [
        "X_train,x_test,y_train,y_test = train_test_split(df.drop(['cvd_bin'],1),df.cvd_bin ,test_size=0.2)"
      ],
      "execution_count": 179,
      "outputs": []
    },
    {
      "cell_type": "code",
      "metadata": {
        "id": "CxG7sBAn6H_j",
        "colab_type": "code",
        "colab": {}
      },
      "source": [
        "def converte_imc(X):\n",
        "\n",
        "    if X < 18:\n",
        "      return 1\n",
        "    elif X < 25:\n",
        "      return 2\n",
        "    elif X < 30:\n",
        "      return 3\n",
        "    elif X < 35:\n",
        "      return 4\n",
        "    else: \n",
        "      return 5"
      ],
      "execution_count": 180,
      "outputs": []
    },
    {
      "cell_type": "code",
      "metadata": {
        "id": "wRgcMHqa7Zs7",
        "colab_type": "code",
        "colab": {}
      },
      "source": [
        "df['imc_faixa'] = df.bmi.map(converte_imc)"
      ],
      "execution_count": 181,
      "outputs": []
    },
    {
      "cell_type": "code",
      "metadata": {
        "id": "nQVtVIbw7lv3",
        "colab_type": "code",
        "colab": {
          "base_uri": "https://localhost:8080/",
          "height": 204
        },
        "outputId": "a566e968-71ec-4d77-ba32-c935d8dabf08"
      },
      "source": [
        "df.head()"
      ],
      "execution_count": 182,
      "outputs": [
        {
          "output_type": "execute_result",
          "data": {
            "text/html": [
              "<div>\n",
              "<style scoped>\n",
              "    .dataframe tbody tr th:only-of-type {\n",
              "        vertical-align: middle;\n",
              "    }\n",
              "\n",
              "    .dataframe tbody tr th {\n",
              "        vertical-align: top;\n",
              "    }\n",
              "\n",
              "    .dataframe thead th {\n",
              "        text-align: right;\n",
              "    }\n",
              "</style>\n",
              "<table border=\"1\" class=\"dataframe\">\n",
              "  <thead>\n",
              "    <tr style=\"text-align: right;\">\n",
              "      <th></th>\n",
              "      <th>age</th>\n",
              "      <th>bmi</th>\n",
              "      <th>tchol</th>\n",
              "      <th>sbp</th>\n",
              "      <th>htn_bin</th>\n",
              "      <th>treat_bin</th>\n",
              "      <th>smk_bin</th>\n",
              "      <th>t2d_bin</th>\n",
              "      <th>cvd_bin</th>\n",
              "      <th>gen_bin</th>\n",
              "      <th>AmInd</th>\n",
              "      <th>Asian/PI</th>\n",
              "      <th>Black/AfAm</th>\n",
              "      <th>White</th>\n",
              "      <th>imc_faixa</th>\n",
              "    </tr>\n",
              "  </thead>\n",
              "  <tbody>\n",
              "    <tr>\n",
              "      <th>0</th>\n",
              "      <td>70-90</td>\n",
              "      <td>17</td>\n",
              "      <td>156</td>\n",
              "      <td>113</td>\n",
              "      <td>0</td>\n",
              "      <td>0</td>\n",
              "      <td>0</td>\n",
              "      <td>0</td>\n",
              "      <td>0</td>\n",
              "      <td>0</td>\n",
              "      <td>0</td>\n",
              "      <td>0</td>\n",
              "      <td>0</td>\n",
              "      <td>1</td>\n",
              "      <td>1</td>\n",
              "    </tr>\n",
              "    <tr>\n",
              "      <th>1</th>\n",
              "      <td>40-55</td>\n",
              "      <td>23</td>\n",
              "      <td>167</td>\n",
              "      <td>126</td>\n",
              "      <td>0</td>\n",
              "      <td>0</td>\n",
              "      <td>0</td>\n",
              "      <td>0</td>\n",
              "      <td>0</td>\n",
              "      <td>0</td>\n",
              "      <td>0</td>\n",
              "      <td>0</td>\n",
              "      <td>0</td>\n",
              "      <td>1</td>\n",
              "      <td>2</td>\n",
              "    </tr>\n",
              "    <tr>\n",
              "      <th>2</th>\n",
              "      <td>55-70</td>\n",
              "      <td>16</td>\n",
              "      <td>214</td>\n",
              "      <td>175</td>\n",
              "      <td>1</td>\n",
              "      <td>1</td>\n",
              "      <td>0</td>\n",
              "      <td>0</td>\n",
              "      <td>0</td>\n",
              "      <td>0</td>\n",
              "      <td>0</td>\n",
              "      <td>0</td>\n",
              "      <td>0</td>\n",
              "      <td>1</td>\n",
              "      <td>1</td>\n",
              "    </tr>\n",
              "    <tr>\n",
              "      <th>3</th>\n",
              "      <td>40-55</td>\n",
              "      <td>22</td>\n",
              "      <td>158</td>\n",
              "      <td>102</td>\n",
              "      <td>0</td>\n",
              "      <td>0</td>\n",
              "      <td>0</td>\n",
              "      <td>0</td>\n",
              "      <td>0</td>\n",
              "      <td>0</td>\n",
              "      <td>0</td>\n",
              "      <td>0</td>\n",
              "      <td>0</td>\n",
              "      <td>1</td>\n",
              "      <td>2</td>\n",
              "    </tr>\n",
              "    <tr>\n",
              "      <th>4</th>\n",
              "      <td>55-70</td>\n",
              "      <td>24</td>\n",
              "      <td>244</td>\n",
              "      <td>132</td>\n",
              "      <td>0</td>\n",
              "      <td>0</td>\n",
              "      <td>0</td>\n",
              "      <td>0</td>\n",
              "      <td>0</td>\n",
              "      <td>0</td>\n",
              "      <td>0</td>\n",
              "      <td>0</td>\n",
              "      <td>0</td>\n",
              "      <td>1</td>\n",
              "      <td>2</td>\n",
              "    </tr>\n",
              "  </tbody>\n",
              "</table>\n",
              "</div>"
            ],
            "text/plain": [
              "     age  bmi  tchol  sbp  ...  Asian/PI  Black/AfAm  White  imc_faixa\n",
              "0  70-90   17    156  113  ...         0           0      1          1\n",
              "1  40-55   23    167  126  ...         0           0      1          2\n",
              "2  55-70   16    214  175  ...         0           0      1          1\n",
              "3  40-55   22    158  102  ...         0           0      1          2\n",
              "4  55-70   24    244  132  ...         0           0      1          2\n",
              "\n",
              "[5 rows x 15 columns]"
            ]
          },
          "metadata": {
            "tags": []
          },
          "execution_count": 182
        }
      ]
    },
    {
      "cell_type": "code",
      "metadata": {
        "id": "4R2j81cK7vUy",
        "colab_type": "code",
        "colab": {}
      },
      "source": [
        "df.drop([\"bmi\"],axis=1,inplace=True)"
      ],
      "execution_count": 183,
      "outputs": []
    },
    {
      "cell_type": "code",
      "metadata": {
        "id": "ncr3X8X38Yq9",
        "colab_type": "code",
        "colab": {
          "base_uri": "https://localhost:8080/",
          "height": 204
        },
        "outputId": "9bd5dc03-d16d-4393-b200-e2a3904947be"
      },
      "source": [
        "df.head()"
      ],
      "execution_count": 184,
      "outputs": [
        {
          "output_type": "execute_result",
          "data": {
            "text/html": [
              "<div>\n",
              "<style scoped>\n",
              "    .dataframe tbody tr th:only-of-type {\n",
              "        vertical-align: middle;\n",
              "    }\n",
              "\n",
              "    .dataframe tbody tr th {\n",
              "        vertical-align: top;\n",
              "    }\n",
              "\n",
              "    .dataframe thead th {\n",
              "        text-align: right;\n",
              "    }\n",
              "</style>\n",
              "<table border=\"1\" class=\"dataframe\">\n",
              "  <thead>\n",
              "    <tr style=\"text-align: right;\">\n",
              "      <th></th>\n",
              "      <th>age</th>\n",
              "      <th>tchol</th>\n",
              "      <th>sbp</th>\n",
              "      <th>htn_bin</th>\n",
              "      <th>treat_bin</th>\n",
              "      <th>smk_bin</th>\n",
              "      <th>t2d_bin</th>\n",
              "      <th>cvd_bin</th>\n",
              "      <th>gen_bin</th>\n",
              "      <th>AmInd</th>\n",
              "      <th>Asian/PI</th>\n",
              "      <th>Black/AfAm</th>\n",
              "      <th>White</th>\n",
              "      <th>imc_faixa</th>\n",
              "    </tr>\n",
              "  </thead>\n",
              "  <tbody>\n",
              "    <tr>\n",
              "      <th>0</th>\n",
              "      <td>70-90</td>\n",
              "      <td>156</td>\n",
              "      <td>113</td>\n",
              "      <td>0</td>\n",
              "      <td>0</td>\n",
              "      <td>0</td>\n",
              "      <td>0</td>\n",
              "      <td>0</td>\n",
              "      <td>0</td>\n",
              "      <td>0</td>\n",
              "      <td>0</td>\n",
              "      <td>0</td>\n",
              "      <td>1</td>\n",
              "      <td>1</td>\n",
              "    </tr>\n",
              "    <tr>\n",
              "      <th>1</th>\n",
              "      <td>40-55</td>\n",
              "      <td>167</td>\n",
              "      <td>126</td>\n",
              "      <td>0</td>\n",
              "      <td>0</td>\n",
              "      <td>0</td>\n",
              "      <td>0</td>\n",
              "      <td>0</td>\n",
              "      <td>0</td>\n",
              "      <td>0</td>\n",
              "      <td>0</td>\n",
              "      <td>0</td>\n",
              "      <td>1</td>\n",
              "      <td>2</td>\n",
              "    </tr>\n",
              "    <tr>\n",
              "      <th>2</th>\n",
              "      <td>55-70</td>\n",
              "      <td>214</td>\n",
              "      <td>175</td>\n",
              "      <td>1</td>\n",
              "      <td>1</td>\n",
              "      <td>0</td>\n",
              "      <td>0</td>\n",
              "      <td>0</td>\n",
              "      <td>0</td>\n",
              "      <td>0</td>\n",
              "      <td>0</td>\n",
              "      <td>0</td>\n",
              "      <td>1</td>\n",
              "      <td>1</td>\n",
              "    </tr>\n",
              "    <tr>\n",
              "      <th>3</th>\n",
              "      <td>40-55</td>\n",
              "      <td>158</td>\n",
              "      <td>102</td>\n",
              "      <td>0</td>\n",
              "      <td>0</td>\n",
              "      <td>0</td>\n",
              "      <td>0</td>\n",
              "      <td>0</td>\n",
              "      <td>0</td>\n",
              "      <td>0</td>\n",
              "      <td>0</td>\n",
              "      <td>0</td>\n",
              "      <td>1</td>\n",
              "      <td>2</td>\n",
              "    </tr>\n",
              "    <tr>\n",
              "      <th>4</th>\n",
              "      <td>55-70</td>\n",
              "      <td>244</td>\n",
              "      <td>132</td>\n",
              "      <td>0</td>\n",
              "      <td>0</td>\n",
              "      <td>0</td>\n",
              "      <td>0</td>\n",
              "      <td>0</td>\n",
              "      <td>0</td>\n",
              "      <td>0</td>\n",
              "      <td>0</td>\n",
              "      <td>0</td>\n",
              "      <td>1</td>\n",
              "      <td>2</td>\n",
              "    </tr>\n",
              "  </tbody>\n",
              "</table>\n",
              "</div>"
            ],
            "text/plain": [
              "     age  tchol  sbp  htn_bin  ...  Asian/PI  Black/AfAm  White  imc_faixa\n",
              "0  70-90    156  113        0  ...         0           0      1          1\n",
              "1  40-55    167  126        0  ...         0           0      1          2\n",
              "2  55-70    214  175        1  ...         0           0      1          1\n",
              "3  40-55    158  102        0  ...         0           0      1          2\n",
              "4  55-70    244  132        0  ...         0           0      1          2\n",
              "\n",
              "[5 rows x 14 columns]"
            ]
          },
          "metadata": {
            "tags": []
          },
          "execution_count": 184
        }
      ]
    },
    {
      "cell_type": "code",
      "metadata": {
        "id": "lHmfZ8dM8m3s",
        "colab_type": "code",
        "colab": {}
      },
      "source": [
        "X_train,x_test,y_train,y_test = train_test_split(df.drop(['cvd_bin'],1),df.cvd_bin ,test_size=0.2)\n",
        "\n",
        "#df = pd.concat([df,pd.get_dummies(df.imc_faixa)], axis=1)\n",
        "#df.head()"
      ],
      "execution_count": 185,
      "outputs": []
    },
    {
      "cell_type": "code",
      "metadata": {
        "id": "cOYXMPOO9bAA",
        "colab_type": "code",
        "colab": {
          "base_uri": "https://localhost:8080/",
          "height": 68
        },
        "outputId": "485b0b59-6b21-49d2-914d-f30490194fca"
      },
      "source": [
        "!pip install xgboost"
      ],
      "execution_count": 186,
      "outputs": [
        {
          "output_type": "stream",
          "text": [
            "Requirement already satisfied: xgboost in /usr/local/lib/python3.6/dist-packages (0.90)\n",
            "Requirement already satisfied: scipy in /usr/local/lib/python3.6/dist-packages (from xgboost) (1.4.1)\n",
            "Requirement already satisfied: numpy in /usr/local/lib/python3.6/dist-packages (from xgboost) (1.18.5)\n"
          ],
          "name": "stdout"
        }
      ]
    },
    {
      "cell_type": "code",
      "metadata": {
        "id": "5U9GaQxM-nEr",
        "colab_type": "code",
        "colab": {}
      },
      "source": [
        "from xgboost import XGBClassifier"
      ],
      "execution_count": 187,
      "outputs": []
    },
    {
      "cell_type": "code",
      "metadata": {
        "id": "yHGw-Dzz-3K1",
        "colab_type": "code",
        "colab": {}
      },
      "source": [
        "X_train,x_test,y_train,y_test = train_test_split(df.drop(['cvd_bin', 'age'],1),df.cvd_bin ,test_size=0.2)"
      ],
      "execution_count": 188,
      "outputs": []
    },
    {
      "cell_type": "code",
      "metadata": {
        "id": "njMaK-2L_ANz",
        "colab_type": "code",
        "colab": {}
      },
      "source": [
        "xg = XGBClassifier()"
      ],
      "execution_count": 189,
      "outputs": []
    },
    {
      "cell_type": "code",
      "metadata": {
        "id": "R9P6IKQg_WaS",
        "colab_type": "code",
        "colab": {}
      },
      "source": [
        "# xg.fit(X_train,y_train)"
      ],
      "execution_count": 190,
      "outputs": []
    },
    {
      "cell_type": "code",
      "metadata": {
        "id": "4S-ePMr1A4Yt",
        "colab_type": "code",
        "colab": {}
      },
      "source": [
        "# from sklearn.model_selection import RandomizedSearchCV\n",
        "# import numpy as np"
      ],
      "execution_count": 191,
      "outputs": []
    },
    {
      "cell_type": "code",
      "metadata": {
        "id": "QJqQSDZQCW-k",
        "colab_type": "code",
        "colab": {}
      },
      "source": [
        "# X_train,x_test,y_train,y_test = train_test_split(df.drop(['cvd_bin','age'],1),df.cvd_bin ,test_size=0.2)"
      ],
      "execution_count": 192,
      "outputs": []
    },
    {
      "cell_type": "code",
      "metadata": {
        "id": "zbmjGnnKArrB",
        "colab_type": "code",
        "colab": {}
      },
      "source": [
        "# # Number of trees in random forest\n",
        "# n_estimators = [int(x) for x in np.linspace(start = 200, stop = 2000, num = 10)]\n",
        "\n",
        "# # Number of features to consider at every split\n",
        "# max_features = ['auto', 'sqrt']\n",
        "\n",
        "# # Maximum number of levels in tree\n",
        "# max_depth = [int(x) for x in np.linspace(10, 110, num = 11)]\n",
        "# max_depth.append(None)\n",
        "\n",
        "# # Minimum number of samples required to split a node\n",
        "# min_samples_split = [2, 5, 10]\n",
        "# # Minimum number of samples required at each leaf node\n",
        "# min_samples_leaf = [1, 2, 4]\n",
        "# # Method of selecting samples for training each tree\n",
        "# bootstrap = [True, False]"
      ],
      "execution_count": 193,
      "outputs": []
    },
    {
      "cell_type": "code",
      "metadata": {
        "id": "evIdnUIgBvTn",
        "colab_type": "code",
        "colab": {}
      },
      "source": [
        "# random_grid = {'n_estimators': n_estimators,\n",
        "#                'max_features': max_features,\n",
        "#                'max_depth': max_depth,\n",
        "#                'min_samples_split': min_samples_split,\n",
        "#                'min_samples_leaf': min_samples_leaf,\n",
        "#                'bootstrap': bootstrap}"
      ],
      "execution_count": 194,
      "outputs": []
    },
    {
      "cell_type": "code",
      "metadata": {
        "id": "nt7e6HHIA7Vo",
        "colab_type": "code",
        "colab": {}
      },
      "source": [
        "# rf_random = RandomizedSearchCV(estimator = RandomForestClassifier(), param_distributions = random_grid, n_iter = 100, cv = 3, verbose=2, random_state=42, n_jobs = -1)"
      ],
      "execution_count": 195,
      "outputs": []
    },
    {
      "cell_type": "code",
      "metadata": {
        "id": "yQv8xzSlGc7V",
        "colab_type": "code",
        "colab": {
          "base_uri": "https://localhost:8080/",
          "height": 153
        },
        "outputId": "7d0ae77c-5195-4373-aebc-478c0a588843"
      },
      "source": [
        "rf = RandomForestClassifier()\n",
        "rf.fit(X_train,y_train)"
      ],
      "execution_count": 196,
      "outputs": [
        {
          "output_type": "execute_result",
          "data": {
            "text/plain": [
              "RandomForestClassifier(bootstrap=True, ccp_alpha=0.0, class_weight=None,\n",
              "                       criterion='gini', max_depth=None, max_features='auto',\n",
              "                       max_leaf_nodes=None, max_samples=None,\n",
              "                       min_impurity_decrease=0.0, min_impurity_split=None,\n",
              "                       min_samples_leaf=1, min_samples_split=2,\n",
              "                       min_weight_fraction_leaf=0.0, n_estimators=100,\n",
              "                       n_jobs=None, oob_score=False, random_state=None,\n",
              "                       verbose=0, warm_start=False)"
            ]
          },
          "metadata": {
            "tags": []
          },
          "execution_count": 196
        }
      ]
    },
    {
      "cell_type": "code",
      "metadata": {
        "id": "bNWrRgjPCA34",
        "colab_type": "code",
        "colab": {
          "base_uri": "https://localhost:8080/",
          "height": 282
        },
        "outputId": "c87475ce-44e7-421e-95ae-107653081fea"
      },
      "source": [
        "feat_importances = pd.Series(rf.feature_importances_, index= X_train.columns)\n",
        "feat_importances.nlargest(20).plot(kind='barh',color='#cf6275')\n"
      ],
      "execution_count": 197,
      "outputs": [
        {
          "output_type": "execute_result",
          "data": {
            "text/plain": [
              "<matplotlib.axes._subplots.AxesSubplot at 0x7f5a3a7f1668>"
            ]
          },
          "metadata": {
            "tags": []
          },
          "execution_count": 197
        },
        {
          "output_type": "display_data",
          "data": {
            "image/png": "[encoded data removed]",
            "text/plain": [
              "<Figure size 432x288 with 1 Axes>"
            ]
          },
          "metadata": {
            "tags": [],
            "needs_background": "light"
          }
        }
      ]
    },
    {
      "cell_type": "code",
      "metadata": {
        "id": "IwIcc7CTCKc9",
        "colab_type": "code",
        "colab": {}
      },
      "source": [
        "X_imp = df[['tchol', 'sbp', 'htn_bin', 'imc_faixa']]"
      ],
      "execution_count": 198,
      "outputs": []
    },
    {
      "cell_type": "code",
      "metadata": {
        "id": "XWR_ST3fG5QK",
        "colab_type": "code",
        "colab": {}
      },
      "source": [
        "y = df.cvd_bin"
      ],
      "execution_count": 199,
      "outputs": []
    },
    {
      "cell_type": "code",
      "metadata": {
        "id": "M1pOpHOAG6QK",
        "colab_type": "code",
        "colab": {}
      },
      "source": [
        "X_train,X_test,y_train,y_test = train_test_split(X_imp,y,test_size=0.33)"
      ],
      "execution_count": 200,
      "outputs": []
    },
    {
      "cell_type": "code",
      "metadata": {
        "id": "sAdtXDxTHR_o",
        "colab_type": "code",
        "colab": {}
      },
      "source": [
        "rf_imp = RandomForestClassifier()\n"
      ],
      "execution_count": 201,
      "outputs": []
    },
    {
      "cell_type": "code",
      "metadata": {
        "id": "vQHA7aqzHU2F",
        "colab_type": "code",
        "colab": {}
      },
      "source": [
        "p_rfi = rf_imp.fit(X_train, y_train).predict(X_test)"
      ],
      "execution_count": 202,
      "outputs": []
    },
    {
      "cell_type": "code",
      "metadata": {
        "id": "je48L_9UHa2B",
        "colab_type": "code",
        "colab": {
          "base_uri": "https://localhost:8080/",
          "height": 34
        },
        "outputId": "9f4a99ec-0fb5-48eb-d3b1-2ba299acaad1"
      },
      "source": [
        "print(roc_auc_score(y_test, p_rfi))"
      ],
      "execution_count": 203,
      "outputs": [
        {
          "output_type": "stream",
          "text": [
            "0.5105908602419629\n"
          ],
          "name": "stdout"
        }
      ]
    },
    {
      "cell_type": "code",
      "metadata": {
        "id": "DlZy8E5QHgXq",
        "colab_type": "code",
        "colab": {}
      },
      "source": [
        "from xgboost import XGBClassifier"
      ],
      "execution_count": 204,
      "outputs": []
    },
    {
      "cell_type": "code",
      "metadata": {
        "id": "WaIsQp2NHuEu",
        "colab_type": "code",
        "colab": {}
      },
      "source": [
        "xg = XGBClassifier(random_state=0)"
      ],
      "execution_count": 240,
      "outputs": []
    },
    {
      "cell_type": "code",
      "metadata": {
        "id": "TbCnEMuZHxDi",
        "colab_type": "code",
        "colab": {}
      },
      "source": [
        "p_xg = xg.fit(X_train,y_train).predict(X_test)"
      ],
      "execution_count": 206,
      "outputs": []
    },
    {
      "cell_type": "code",
      "metadata": {
        "id": "BrbguidDH1l3",
        "colab_type": "code",
        "colab": {
          "base_uri": "https://localhost:8080/",
          "height": 34
        },
        "outputId": "e62cbfd1-4992-4a61-8ef4-efde43f5923a"
      },
      "source": [
        "print(roc_auc_score(y_test, p_xg))"
      ],
      "execution_count": 207,
      "outputs": [
        {
          "output_type": "stream",
          "text": [
            "0.5\n"
          ],
          "name": "stdout"
        }
      ]
    },
    {
      "cell_type": "code",
      "metadata": {
        "id": "t15boxaAH456",
        "colab_type": "code",
        "colab": {}
      },
      "source": [
        "from sklearn.feature_selection import SelectKBest"
      ],
      "execution_count": 208,
      "outputs": []
    },
    {
      "cell_type": "code",
      "metadata": {
        "id": "iwwRWBzCJgmO",
        "colab_type": "code",
        "colab": {
          "base_uri": "https://localhost:8080/",
          "height": 204
        },
        "outputId": "2bc6ea99-5328-4b89-d344-7376506146a6"
      },
      "source": [
        "df.head()"
      ],
      "execution_count": 209,
      "outputs": [
        {
          "output_type": "execute_result",
          "data": {
            "text/html": [
              "<div>\n",
              "<style scoped>\n",
              "    .dataframe tbody tr th:only-of-type {\n",
              "        vertical-align: middle;\n",
              "    }\n",
              "\n",
              "    .dataframe tbody tr th {\n",
              "        vertical-align: top;\n",
              "    }\n",
              "\n",
              "    .dataframe thead th {\n",
              "        text-align: right;\n",
              "    }\n",
              "</style>\n",
              "<table border=\"1\" class=\"dataframe\">\n",
              "  <thead>\n",
              "    <tr style=\"text-align: right;\">\n",
              "      <th></th>\n",
              "      <th>age</th>\n",
              "      <th>tchol</th>\n",
              "      <th>sbp</th>\n",
              "      <th>htn_bin</th>\n",
              "      <th>treat_bin</th>\n",
              "      <th>smk_bin</th>\n",
              "      <th>t2d_bin</th>\n",
              "      <th>cvd_bin</th>\n",
              "      <th>gen_bin</th>\n",
              "      <th>AmInd</th>\n",
              "      <th>Asian/PI</th>\n",
              "      <th>Black/AfAm</th>\n",
              "      <th>White</th>\n",
              "      <th>imc_faixa</th>\n",
              "    </tr>\n",
              "  </thead>\n",
              "  <tbody>\n",
              "    <tr>\n",
              "      <th>0</th>\n",
              "      <td>70-90</td>\n",
              "      <td>156</td>\n",
              "      <td>113</td>\n",
              "      <td>0</td>\n",
              "      <td>0</td>\n",
              "      <td>0</td>\n",
              "      <td>0</td>\n",
              "      <td>0</td>\n",
              "      <td>0</td>\n",
              "      <td>0</td>\n",
              "      <td>0</td>\n",
              "      <td>0</td>\n",
              "      <td>1</td>\n",
              "      <td>1</td>\n",
              "    </tr>\n",
              "    <tr>\n",
              "      <th>1</th>\n",
              "      <td>40-55</td>\n",
              "      <td>167</td>\n",
              "      <td>126</td>\n",
              "      <td>0</td>\n",
              "      <td>0</td>\n",
              "      <td>0</td>\n",
              "      <td>0</td>\n",
              "      <td>0</td>\n",
              "      <td>0</td>\n",
              "      <td>0</td>\n",
              "      <td>0</td>\n",
              "      <td>0</td>\n",
              "      <td>1</td>\n",
              "      <td>2</td>\n",
              "    </tr>\n",
              "    <tr>\n",
              "      <th>2</th>\n",
              "      <td>55-70</td>\n",
              "      <td>214</td>\n",
              "      <td>175</td>\n",
              "      <td>1</td>\n",
              "      <td>1</td>\n",
              "      <td>0</td>\n",
              "      <td>0</td>\n",
              "      <td>0</td>\n",
              "      <td>0</td>\n",
              "      <td>0</td>\n",
              "      <td>0</td>\n",
              "      <td>0</td>\n",
              "      <td>1</td>\n",
              "      <td>1</td>\n",
              "    </tr>\n",
              "    <tr>\n",
              "      <th>3</th>\n",
              "      <td>40-55</td>\n",
              "      <td>158</td>\n",
              "      <td>102</td>\n",
              "      <td>0</td>\n",
              "      <td>0</td>\n",
              "      <td>0</td>\n",
              "      <td>0</td>\n",
              "      <td>0</td>\n",
              "      <td>0</td>\n",
              "      <td>0</td>\n",
              "      <td>0</td>\n",
              "      <td>0</td>\n",
              "      <td>1</td>\n",
              "      <td>2</td>\n",
              "    </tr>\n",
              "    <tr>\n",
              "      <th>4</th>\n",
              "      <td>55-70</td>\n",
              "      <td>244</td>\n",
              "      <td>132</td>\n",
              "      <td>0</td>\n",
              "      <td>0</td>\n",
              "      <td>0</td>\n",
              "      <td>0</td>\n",
              "      <td>0</td>\n",
              "      <td>0</td>\n",
              "      <td>0</td>\n",
              "      <td>0</td>\n",
              "      <td>0</td>\n",
              "      <td>1</td>\n",
              "      <td>2</td>\n",
              "    </tr>\n",
              "  </tbody>\n",
              "</table>\n",
              "</div>"
            ],
            "text/plain": [
              "     age  tchol  sbp  htn_bin  ...  Asian/PI  Black/AfAm  White  imc_faixa\n",
              "0  70-90    156  113        0  ...         0           0      1          1\n",
              "1  40-55    167  126        0  ...         0           0      1          2\n",
              "2  55-70    214  175        1  ...         0           0      1          1\n",
              "3  40-55    158  102        0  ...         0           0      1          2\n",
              "4  55-70    244  132        0  ...         0           0      1          2\n",
              "\n",
              "[5 rows x 14 columns]"
            ]
          },
          "metadata": {
            "tags": []
          },
          "execution_count": 209
        }
      ]
    },
    {
      "cell_type": "code",
      "metadata": {
        "id": "zQq_-4WSJm60",
        "colab_type": "code",
        "colab": {}
      },
      "source": [
        "X = df.drop([\"cvd_bin\",'age'], axis=1).copy()\n",
        "y = df['cvd_bin'].copy()"
      ],
      "execution_count": 210,
      "outputs": []
    },
    {
      "cell_type": "code",
      "metadata": {
        "id": "WnvZq3Q1Jxrv",
        "colab_type": "code",
        "colab": {}
      },
      "source": [
        "X_train,X_test,y_train,y_test = train_test_split(X,y,test_size=0.33)"
      ],
      "execution_count": 211,
      "outputs": []
    },
    {
      "cell_type": "code",
      "metadata": {
        "id": "bjlz7rQJIQcS",
        "colab_type": "code",
        "colab": {
          "base_uri": "https://localhost:8080/",
          "height": 85
        },
        "outputId": "c6a34184-5919-4f39-ae5f-75153dc122c0"
      },
      "source": [
        "from sklearn.feature_selection import f_classif, SelectFromModel, SelectKBest\n",
        "from sklearn.linear_model import Lasso\n",
        "\n",
        "k=6\n",
        "selector = SelectKBest(score_func= f_classif, k=k)\n",
        "\n",
        "X2 = selector.fit_transform(X, y)"
      ],
      "execution_count": 212,
      "outputs": [
        {
          "output_type": "stream",
          "text": [
            "/usr/local/lib/python3.6/dist-packages/sklearn/feature_selection/_univariate_selection.py:114: UserWarning: Features [6] are constant.\n",
            "  UserWarning)\n",
            "/usr/local/lib/python3.6/dist-packages/sklearn/feature_selection/_univariate_selection.py:115: RuntimeWarning: invalid value encountered in true_divide\n",
            "  f = msb / msw\n"
          ],
          "name": "stderr"
        }
      ]
    },
    {
      "cell_type": "code",
      "metadata": {
        "id": "9Tu4FTP9KM84",
        "colab_type": "code",
        "colab": {
          "base_uri": "https://localhost:8080/",
          "height": 136
        },
        "outputId": "9509647e-ae8a-4967-d570-6cee2c050904"
      },
      "source": [
        "X2"
      ],
      "execution_count": 213,
      "outputs": [
        {
          "output_type": "execute_result",
          "data": {
            "text/plain": [
              "array([[113,   0,   0,   0,   0,   1],\n",
              "       [126,   0,   0,   0,   0,   2],\n",
              "       [175,   1,   1,   0,   0,   1],\n",
              "       ...,\n",
              "       [111,   0,   0,   0,   0,   1],\n",
              "       [192,   1,   1,   0,   0,   3],\n",
              "       [120,   0,   0,   0,   0,   2]])"
            ]
          },
          "metadata": {
            "tags": []
          },
          "execution_count": 213
        }
      ]
    },
    {
      "cell_type": "code",
      "metadata": {
        "id": "Rbfk5zw5KTMG",
        "colab_type": "code",
        "colab": {
          "base_uri": "https://localhost:8080/",
          "height": 419
        },
        "outputId": "60245b6b-a11e-4996-9f93-52e0dd798d0f"
      },
      "source": [
        "X.loc[:, selector.get_support()]"
      ],
      "execution_count": 214,
      "outputs": [
        {
          "output_type": "execute_result",
          "data": {
            "text/html": [
              "<div>\n",
              "<style scoped>\n",
              "    .dataframe tbody tr th:only-of-type {\n",
              "        vertical-align: middle;\n",
              "    }\n",
              "\n",
              "    .dataframe tbody tr th {\n",
              "        vertical-align: top;\n",
              "    }\n",
              "\n",
              "    .dataframe thead th {\n",
              "        text-align: right;\n",
              "    }\n",
              "</style>\n",
              "<table border=\"1\" class=\"dataframe\">\n",
              "  <thead>\n",
              "    <tr style=\"text-align: right;\">\n",
              "      <th></th>\n",
              "      <th>sbp</th>\n",
              "      <th>htn_bin</th>\n",
              "      <th>treat_bin</th>\n",
              "      <th>smk_bin</th>\n",
              "      <th>t2d_bin</th>\n",
              "      <th>imc_faixa</th>\n",
              "    </tr>\n",
              "  </thead>\n",
              "  <tbody>\n",
              "    <tr>\n",
              "      <th>0</th>\n",
              "      <td>113</td>\n",
              "      <td>0</td>\n",
              "      <td>0</td>\n",
              "      <td>0</td>\n",
              "      <td>0</td>\n",
              "      <td>1</td>\n",
              "    </tr>\n",
              "    <tr>\n",
              "      <th>1</th>\n",
              "      <td>126</td>\n",
              "      <td>0</td>\n",
              "      <td>0</td>\n",
              "      <td>0</td>\n",
              "      <td>0</td>\n",
              "      <td>2</td>\n",
              "    </tr>\n",
              "    <tr>\n",
              "      <th>2</th>\n",
              "      <td>175</td>\n",
              "      <td>1</td>\n",
              "      <td>1</td>\n",
              "      <td>0</td>\n",
              "      <td>0</td>\n",
              "      <td>1</td>\n",
              "    </tr>\n",
              "    <tr>\n",
              "      <th>3</th>\n",
              "      <td>102</td>\n",
              "      <td>0</td>\n",
              "      <td>0</td>\n",
              "      <td>0</td>\n",
              "      <td>0</td>\n",
              "      <td>2</td>\n",
              "    </tr>\n",
              "    <tr>\n",
              "      <th>4</th>\n",
              "      <td>132</td>\n",
              "      <td>0</td>\n",
              "      <td>0</td>\n",
              "      <td>0</td>\n",
              "      <td>0</td>\n",
              "      <td>2</td>\n",
              "    </tr>\n",
              "    <tr>\n",
              "      <th>...</th>\n",
              "      <td>...</td>\n",
              "      <td>...</td>\n",
              "      <td>...</td>\n",
              "      <td>...</td>\n",
              "      <td>...</td>\n",
              "      <td>...</td>\n",
              "    </tr>\n",
              "    <tr>\n",
              "      <th>446198</th>\n",
              "      <td>168</td>\n",
              "      <td>1</td>\n",
              "      <td>1</td>\n",
              "      <td>0</td>\n",
              "      <td>0</td>\n",
              "      <td>2</td>\n",
              "    </tr>\n",
              "    <tr>\n",
              "      <th>446199</th>\n",
              "      <td>110</td>\n",
              "      <td>0</td>\n",
              "      <td>0</td>\n",
              "      <td>0</td>\n",
              "      <td>1</td>\n",
              "      <td>4</td>\n",
              "    </tr>\n",
              "    <tr>\n",
              "      <th>446200</th>\n",
              "      <td>111</td>\n",
              "      <td>0</td>\n",
              "      <td>0</td>\n",
              "      <td>0</td>\n",
              "      <td>0</td>\n",
              "      <td>1</td>\n",
              "    </tr>\n",
              "    <tr>\n",
              "      <th>446201</th>\n",
              "      <td>192</td>\n",
              "      <td>1</td>\n",
              "      <td>1</td>\n",
              "      <td>0</td>\n",
              "      <td>0</td>\n",
              "      <td>3</td>\n",
              "    </tr>\n",
              "    <tr>\n",
              "      <th>446202</th>\n",
              "      <td>120</td>\n",
              "      <td>0</td>\n",
              "      <td>0</td>\n",
              "      <td>0</td>\n",
              "      <td>0</td>\n",
              "      <td>2</td>\n",
              "    </tr>\n",
              "  </tbody>\n",
              "</table>\n",
              "<p>446203 rows × 6 columns</p>\n",
              "</div>"
            ],
            "text/plain": [
              "        sbp  htn_bin  treat_bin  smk_bin  t2d_bin  imc_faixa\n",
              "0       113        0          0        0        0          1\n",
              "1       126        0          0        0        0          2\n",
              "2       175        1          1        0        0          1\n",
              "3       102        0          0        0        0          2\n",
              "4       132        0          0        0        0          2\n",
              "...     ...      ...        ...      ...      ...        ...\n",
              "446198  168        1          1        0        0          2\n",
              "446199  110        0          0        0        1          4\n",
              "446200  111        0          0        0        0          1\n",
              "446201  192        1          1        0        0          3\n",
              "446202  120        0          0        0        0          2\n",
              "\n",
              "[446203 rows x 6 columns]"
            ]
          },
          "metadata": {
            "tags": []
          },
          "execution_count": 214
        }
      ]
    },
    {
      "cell_type": "code",
      "metadata": {
        "id": "w8CosLg2Tyqm",
        "colab_type": "code",
        "colab": {}
      },
      "source": [
        ""
      ],
      "execution_count": null,
      "outputs": []
    },
    {
      "cell_type": "code",
      "metadata": {
        "id": "IbkrSKMJKnkx",
        "colab_type": "code",
        "colab": {}
      },
      "source": [
        "X_train,X_test,y_train,y_test = train_test_split(X2,y,test_size=0.33)"
      ],
      "execution_count": 215,
      "outputs": []
    },
    {
      "cell_type": "code",
      "metadata": {
        "id": "eRM-fMpNKY2_",
        "colab_type": "code",
        "colab": {}
      },
      "source": [
        "p_xg = xg.fit(X_train,y_train).predict(X_test)"
      ],
      "execution_count": 216,
      "outputs": []
    },
    {
      "cell_type": "code",
      "metadata": {
        "id": "FUB5cVqxKpu5",
        "colab_type": "code",
        "colab": {
          "base_uri": "https://localhost:8080/",
          "height": 34
        },
        "outputId": "bd633055-3917-4dc3-bfa6-52d2aeb6ad2a"
      },
      "source": [
        "roc_auc_score(p_xg, y_test)"
      ],
      "execution_count": 217,
      "outputs": [
        {
          "output_type": "execute_result",
          "data": {
            "text/plain": [
              "0.7670228586404273"
            ]
          },
          "metadata": {
            "tags": []
          },
          "execution_count": 217
        }
      ]
    },
    {
      "cell_type": "code",
      "metadata": {
        "id": "yx8wep4vPz5P",
        "colab_type": "code",
        "colab": {
          "base_uri": "https://localhost:8080/",
          "height": 34
        },
        "outputId": "6901475d-cb2b-4235-f7ac-ac10c07fa4e0"
      },
      "source": [
        "X2.shape"
      ],
      "execution_count": 218,
      "outputs": [
        {
          "output_type": "execute_result",
          "data": {
            "text/plain": [
              "(446203, 6)"
            ]
          },
          "metadata": {
            "tags": []
          },
          "execution_count": 218
        }
      ]
    },
    {
      "cell_type": "code",
      "metadata": {
        "id": "I4b_T1dGQJol",
        "colab_type": "code",
        "colab": {}
      },
      "source": [
        "X2 = pd.DataFrame(X2)"
      ],
      "execution_count": 220,
      "outputs": []
    },
    {
      "cell_type": "code",
      "metadata": {
        "id": "IY6yY8hrR4J9",
        "colab_type": "code",
        "colab": {}
      },
      "source": [
        "X3=pd.concat([X2,y],axis=1)"
      ],
      "execution_count": 232,
      "outputs": []
    },
    {
      "cell_type": "code",
      "metadata": {
        "id": "N4f-xon5QXj2",
        "colab_type": "code",
        "colab": {}
      },
      "source": [
        "X3.columns = [0,1,2,3,4,5,6]"
      ],
      "execution_count": 233,
      "outputs": []
    },
    {
      "cell_type": "code",
      "metadata": {
        "id": "wpl5FR54SBlU",
        "colab_type": "code",
        "colab": {
          "base_uri": "https://localhost:8080/",
          "height": 204
        },
        "outputId": "18ae596e-015b-46ee-865c-77180da7f7ba"
      },
      "source": [
        "X2.head()"
      ],
      "execution_count": 234,
      "outputs": [
        {
          "output_type": "execute_result",
          "data": {
            "text/html": [
              "<div>\n",
              "<style scoped>\n",
              "    .dataframe tbody tr th:only-of-type {\n",
              "        vertical-align: middle;\n",
              "    }\n",
              "\n",
              "    .dataframe tbody tr th {\n",
              "        vertical-align: top;\n",
              "    }\n",
              "\n",
              "    .dataframe thead th {\n",
              "        text-align: right;\n",
              "    }\n",
              "</style>\n",
              "<table border=\"1\" class=\"dataframe\">\n",
              "  <thead>\n",
              "    <tr style=\"text-align: right;\">\n",
              "      <th></th>\n",
              "      <th>0</th>\n",
              "      <th>1</th>\n",
              "      <th>2</th>\n",
              "      <th>3</th>\n",
              "      <th>4</th>\n",
              "      <th>5</th>\n",
              "    </tr>\n",
              "  </thead>\n",
              "  <tbody>\n",
              "    <tr>\n",
              "      <th>0</th>\n",
              "      <td>113</td>\n",
              "      <td>0</td>\n",
              "      <td>0</td>\n",
              "      <td>0</td>\n",
              "      <td>0</td>\n",
              "      <td>1</td>\n",
              "    </tr>\n",
              "    <tr>\n",
              "      <th>1</th>\n",
              "      <td>126</td>\n",
              "      <td>0</td>\n",
              "      <td>0</td>\n",
              "      <td>0</td>\n",
              "      <td>0</td>\n",
              "      <td>2</td>\n",
              "    </tr>\n",
              "    <tr>\n",
              "      <th>2</th>\n",
              "      <td>175</td>\n",
              "      <td>1</td>\n",
              "      <td>1</td>\n",
              "      <td>0</td>\n",
              "      <td>0</td>\n",
              "      <td>1</td>\n",
              "    </tr>\n",
              "    <tr>\n",
              "      <th>3</th>\n",
              "      <td>102</td>\n",
              "      <td>0</td>\n",
              "      <td>0</td>\n",
              "      <td>0</td>\n",
              "      <td>0</td>\n",
              "      <td>2</td>\n",
              "    </tr>\n",
              "    <tr>\n",
              "      <th>4</th>\n",
              "      <td>132</td>\n",
              "      <td>0</td>\n",
              "      <td>0</td>\n",
              "      <td>0</td>\n",
              "      <td>0</td>\n",
              "      <td>2</td>\n",
              "    </tr>\n",
              "  </tbody>\n",
              "</table>\n",
              "</div>"
            ],
            "text/plain": [
              "     0  1  2  3  4  5\n",
              "0  113  0  0  0  0  1\n",
              "1  126  0  0  0  0  2\n",
              "2  175  1  1  0  0  1\n",
              "3  102  0  0  0  0  2\n",
              "4  132  0  0  0  0  2"
            ]
          },
          "metadata": {
            "tags": []
          },
          "execution_count": 234
        }
      ]
    },
    {
      "cell_type": "code",
      "metadata": {
        "id": "rwXhx695Q063",
        "colab_type": "code",
        "colab": {
          "base_uri": "https://localhost:8080/",
          "height": 221
        },
        "outputId": "e1af639c-9b65-4b08-dafd-3044d0f17419"
      },
      "source": [
        "X3[6]"
      ],
      "execution_count": 235,
      "outputs": [
        {
          "output_type": "execute_result",
          "data": {
            "text/plain": [
              "0         0\n",
              "1         0\n",
              "2         0\n",
              "3         0\n",
              "4         0\n",
              "         ..\n",
              "446198    0\n",
              "446199    0\n",
              "446200    0\n",
              "446201    1\n",
              "446202    0\n",
              "Name: 6, Length: 446203, dtype: int64"
            ]
          },
          "metadata": {
            "tags": []
          },
          "execution_count": 235
        }
      ]
    },
    {
      "cell_type": "code",
      "metadata": {
        "id": "AtLNFpd8SYxc",
        "colab_type": "code",
        "colab": {}
      },
      "source": [
        "X3 = X3[(X3[0] < 180)]"
      ],
      "execution_count": 236,
      "outputs": []
    },
    {
      "cell_type": "code",
      "metadata": {
        "id": "hkQk_VaNSWwd",
        "colab_type": "code",
        "colab": {}
      },
      "source": [
        "y=X3[6]"
      ],
      "execution_count": 237,
      "outputs": []
    },
    {
      "cell_type": "code",
      "metadata": {
        "id": "Dob_6-iKRFnx",
        "colab_type": "code",
        "colab": {}
      },
      "source": [
        "X3.drop(6,axis=1,inplace=True)"
      ],
      "execution_count": 238,
      "outputs": []
    },
    {
      "cell_type": "code",
      "metadata": {
        "id": "mW66jC1zT1HG",
        "colab_type": "code",
        "colab": {}
      },
      "source": [
        "X4 = X3.drop(0,axis=1)\n",
        "X5 = X3.drop(1,axis=1)"
      ],
      "execution_count": 248,
      "outputs": []
    },
    {
      "cell_type": "code",
      "metadata": {
        "id": "2KIddmUJNaIT",
        "colab_type": "code",
        "colab": {
          "base_uri": "https://localhost:8080/",
          "height": 34
        },
        "outputId": "4840ea57-d8e4-4936-d321-d95a19bb1db2"
      },
      "source": [
        "X_train,X_test,y_train,y_test = train_test_split(X3,y,test_size=0.33)\n",
        "p_xg = xg.fit(X_train,y_train).predict(X_test)\n",
        "roc_auc_score(p_xg, y_test)"
      ],
      "execution_count": 249,
      "outputs": [
        {
          "output_type": "execute_result",
          "data": {
            "text/plain": [
              "0.7435227516732821"
            ]
          },
          "metadata": {
            "tags": []
          },
          "execution_count": 249
        }
      ]
    },
    {
      "cell_type": "code",
      "metadata": {
        "id": "oHHL68bmSqAB",
        "colab_type": "code",
        "colab": {
          "base_uri": "https://localhost:8080/",
          "height": 34
        },
        "outputId": "20397ea5-9d0c-4702-9bc7-193e1ddfb92e"
      },
      "source": [
        "X_train,X_test,y_train,y_test = train_test_split(X4,y,test_size=0.33)\n",
        "p_xg = xg.fit(X_train,y_train).predict(X_test)\n",
        "roc_auc_score(p_xg, y_test)"
      ],
      "execution_count": 250,
      "outputs": [
        {
          "output_type": "execute_result",
          "data": {
            "text/plain": [
              "0.7622308415308914"
            ]
          },
          "metadata": {
            "tags": []
          },
          "execution_count": 250
        }
      ]
    },
    {
      "cell_type": "code",
      "metadata": {
        "id": "FafXIg2CUHtt",
        "colab_type": "code",
        "colab": {
          "base_uri": "https://localhost:8080/",
          "height": 34
        },
        "outputId": "6d5f57ca-d223-4833-cec8-e1c874437df0"
      },
      "source": [
        "X_train,X_test,y_train,y_test = train_test_split(X5,y,test_size=0.33)\n",
        "p_xg = xg.fit(X_train,y_train).predict(X_test)\n",
        "roc_auc_score(p_xg, y_test)"
      ],
      "execution_count": 251,
      "outputs": [
        {
          "output_type": "execute_result",
          "data": {
            "text/plain": [
              "0.7580978532868812"
            ]
          },
          "metadata": {
            "tags": []
          },
          "execution_count": 251
        }
      ]
    },
    {
      "cell_type": "code",
      "metadata": {
        "id": "L4dZXFxRULBl",
        "colab_type": "code",
        "colab": {}
      },
      "source": [
        ""
      ],
      "execution_count": null,
      "outputs": []
    }
  ]
}